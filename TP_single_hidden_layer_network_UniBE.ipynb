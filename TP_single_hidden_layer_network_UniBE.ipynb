{
  "nbformat": 4,
  "nbformat_minor": 0,
  "metadata": {
    "colab": {
      "name": "TP_single_hidden_layer_network_UniBE.ipynb",
      "version": "0.3.2",
      "provenance": [],
      "collapsed_sections": [],
      "include_colab_link": true
    },
    "kernelspec": {
      "name": "python3",
      "display_name": "Python 3"
    },
    "accelerator": "GPU"
  },
  "cells": [
    {
      "cell_type": "markdown",
      "metadata": {
        "id": "view-in-github",
        "colab_type": "text"
      },
      "source": [
        "<a href=\"https://colab.research.google.com/github/danielhladky/CAS_ADS/blob/master/TP_single_hidden_layer_network_UniBE.ipynb\" target=\"_parent\"><img src=\"https://colab.research.google.com/assets/colab-badge.svg\" alt=\"Open In Colab\"/></a>"
      ]
    },
    {
      "metadata": {
        "id": "Rg6ecl_s-0Gj",
        "colab_type": "text"
      },
      "cell_type": "markdown",
      "source": [
        "# Abstract\n",
        "\n",
        "## Predictive Inventory Management\n",
        "\n",
        "### Authors: Daniel Hladky and Vadim Peshekhonov\n",
        "\n",
        "Integrum Solution AG works on specific customer projects. Within this work the aim is to predict the inventory based on the historical consumption of data. The data has been already extracted and cleaned and are available in a CSV format. The aim is to get 2 years of historical data and to train two models (e.g. LSTM and GradientBoosting) that will give a simple view of the stock movement. The regression will be implemented in Keras or TensorFlow and Scikit-Learn.\n",
        "\n",
        "Links to datasets you may use: Customer specific historical data as CSV The data will be kind of anonymous. Only UUID (individual stock within supply chain is shown withut customer name)\n",
        "\n",
        "Date: 19 February 2019 (project presentation at UniBE)\n",
        "\n",
        "## Module 3 - UniBE - CAS Applied Data Science\n",
        "For the module 3 we have elaborated on various aspects and created different notebooks within Colab or jupyter notebooks. \n",
        "\n",
        "### Part I   -  Data Analysis, XGB, Lasso, Ridge(Time_series_analysis_TP_UniBE.ipynb)\n",
        "### Part II  -  TensorFlow (TF) LSTM  (BAG_TP_ML_DL_UniBE.ipynb)\n",
        "### Part III -  TF single hidden layer (TP_single_hidden_layer_network_UniBE.ipynb)\n",
        "### Part IV -  TF FullyConnected_MultiLayer(multiple_layer_network_TP_UniBE.ipynb)"
      ]
    },
    {
      "metadata": {
        "id": "3k8m8gr3C3Cz",
        "colab_type": "text"
      },
      "cell_type": "markdown",
      "source": [
        "# Implementing a one-layer Neural Network\n",
        "\n",
        "\n",
        "We will illustrate how to create a one hidden layer NN\n",
        "\n",
        "Input: Thermoplan mean aggr data with 85 columns as features to predict  one single variable"
      ]
    },
    {
      "metadata": {
        "id": "vZ47Yvg8C3C0",
        "colab_type": "code",
        "outputId": "0e145831-0c95-4887-d12d-c86d8b69d578",
        "colab": {
          "base_uri": "https://localhost:8080/",
          "height": 17
        }
      },
      "cell_type": "code",
      "source": [
        "import numpy as np\n",
        "import os\n",
        "import pandas as pd\n",
        "import matplotlib.pyplot as plt\n",
        "import tensorflow as tf\n",
        "from sklearn import datasets\n",
        "from tensorflow.python.framework import ops\n",
        "from sklearn.preprocessing import StandardScaler\n",
        "\n",
        "# We'll tell matplotlib to inline any drawn figures like so:\n",
        "%matplotlib inline\n",
        "plt.style.use('ggplot')\n",
        "\n",
        "from IPython.core.display import HTML\n",
        "HTML(\"\"\"<style> .rendered_html code { \n",
        "    padding: 2px 5px;\n",
        "    color: #0000aa;\n",
        "    background-color: #cccccc;\n",
        "} </style>\"\"\")"
      ],
      "execution_count": 0,
      "outputs": [
        {
          "output_type": "execute_result",
          "data": {
            "text/html": [
              "<style> .rendered_html code { \n",
              "    padding: 2px 5px;\n",
              "    color: #0000aa;\n",
              "    background-color: #cccccc;\n",
              "} </style>"
            ],
            "text/plain": [
              "<IPython.core.display.HTML object>"
            ]
          },
          "metadata": {
            "tags": []
          },
          "execution_count": 40
        }
      ]
    },
    {
      "metadata": {
        "id": "Yx7fZ81oC3C4",
        "colab_type": "code",
        "colab": {}
      },
      "cell_type": "code",
      "source": [
        "ops.reset_default_graph()"
      ],
      "execution_count": 0,
      "outputs": []
    },
    {
      "metadata": {
        "id": "pTyxOKiLSgmp",
        "colab_type": "code",
        "outputId": "b5cd47d6-1f87-494e-ba97-b10a17403d79",
        "colab": {
          "base_uri": "https://localhost:8080/",
          "height": 123
        }
      },
      "cell_type": "code",
      "source": [
        "# use this code cell to mount the google drive\n",
        "from google.colab import drive\n",
        "drive.mount('/content/drive')"
      ],
      "execution_count": 0,
      "outputs": [
        {
          "output_type": "stream",
          "text": [
            "Go to this URL in a browser: https://accounts.google.com/o/oauth2/auth?client_id=947318989803-6bn6qk8qdgf4n4g3pfee6491hc0brc4i.apps.googleusercontent.com&redirect_uri=urn%3Aietf%3Awg%3Aoauth%3A2.0%3Aoob&scope=email%20https%3A%2F%2Fwww.googleapis.com%2Fauth%2Fdocs.test%20https%3A%2F%2Fwww.googleapis.com%2Fauth%2Fdrive%20https%3A%2F%2Fwww.googleapis.com%2Fauth%2Fdrive.photos.readonly%20https%3A%2F%2Fwww.googleapis.com%2Fauth%2Fpeopleapi.readonly&response_type=code\n",
            "\n",
            "Enter your authorization code:\n",
            "··········\n",
            "Mounted at /content/drive\n"
          ],
          "name": "stdout"
        }
      ]
    },
    {
      "metadata": {
        "id": "rI-bL9I3SihF",
        "colab_type": "code",
        "colab": {}
      },
      "cell_type": "code",
      "source": [
        "# read the file from google drive \n",
        "TP = '/content/drive/My Drive/Datasets_ML/Thermoplan_Mean_Agg_pushed.csv'\n",
        "#TP = '/content/drive/My Drive/Thermoplan_aggregiertes_Dataframe.csv'\n",
        "Thermoplan = pd.read_csv(TP)"
      ],
      "execution_count": 0,
      "outputs": []
    },
    {
      "metadata": {
        "id": "Gar4YINkNAwP",
        "colab_type": "code",
        "colab": {}
      },
      "cell_type": "code",
      "source": [
        "#Was not able to access the data after mounting the drive. Used this code\n",
        "Thermoplan = pd.read_csv('Thermoplan_Mean_Agg_pushed.csv')"
      ],
      "execution_count": 0,
      "outputs": []
    },
    {
      "metadata": {
        "id": "3ajWb_SwTPCv",
        "colab_type": "text"
      },
      "cell_type": "markdown",
      "source": [
        "# Use the following UUID's for testing\n",
        "uuid = '026CBAE094394E01A29914AF256DD413'\n",
        "uuid = 'CAC59BCDBE86370D840726487D717367'\n",
        "uuid = '8C5BBAAB7A213D69885122F2BF3E986C'"
      ]
    },
    {
      "metadata": {
        "id": "acISveKn0zIP",
        "colab_type": "code",
        "colab": {}
      },
      "cell_type": "code",
      "source": [
        "#column name to forecast - predict a UUID - provide 2-3 potential UUID's\n",
        "column_name3 = 'CAC59BCDBE86370D840726487D717367'\n",
        "column_name2 = '026CBAE094394E01A29914AF256DD413'\n",
        "column_name1 = '8C5BBAAB7A213D69885122F2BF3E986C'\n"
      ],
      "execution_count": 0,
      "outputs": []
    },
    {
      "metadata": {
        "id": "8ummrgdq_mse",
        "colab_type": "code",
        "outputId": "1ae962af-f399-48df-e24c-522c60456435",
        "colab": {
          "base_uri": "https://localhost:8080/",
          "height": 464
        }
      },
      "cell_type": "code",
      "source": [
        "plt.figure(figsize=(12,7), frameon=False, facecolor='brown', edgecolor='blue')\n",
        "plt.xlabel('Days')\n",
        "plt.plot(Thermoplan[column_name1].values, label=column_name1)\n",
        "plt.plot(Thermoplan[column_name2].values, label=column_name2)\n",
        "plt.plot(Thermoplan[column_name3].values, label=column_name3)\n",
        "plt.legend()\n",
        "plt.show()"
      ],
      "execution_count": 0,
      "outputs": [
        {
          "output_type": "display_data",
          "data": {
            "image/png": "[encoded data removed]",
            "text/plain": [
              "<Figure size 864x504 with 1 Axes>"
            ]
          },
          "metadata": {
            "tags": []
          }
        }
      ]
    },
    {
      "metadata": {
        "id": "eDwIpO7tNZF8",
        "colab_type": "code",
        "colab": {}
      },
      "cell_type": "code",
      "source": [
        ""
      ],
      "execution_count": 0,
      "outputs": []
    },
    {
      "metadata": {
        "id": "Hd_O5dLH1Ewo",
        "colab_type": "code",
        "colab": {}
      },
      "cell_type": "code",
      "source": [
        "#DF Shape: 487 rows, 768 columns\n",
        "#UUIDS: 682 (y labels to be predicted)\n",
        "number_of_features = 85"
      ],
      "execution_count": 0,
      "outputs": []
    },
    {
      "metadata": {
        "id": "ZG8I3CCuX-ZV",
        "colab_type": "code",
        "colab": {}
      },
      "cell_type": "code",
      "source": [
        "#Prepare features only dataset\n",
        "Features=Thermoplan\n",
        "cyclo=1\n",
        "while cyclo <= 768-number_of_features:\n",
        "   \n",
        "    Features = Features.drop(Features.columns[[0]], axis=1)\n",
        "    cyclo +=1"
      ],
      "execution_count": 0,
      "outputs": []
    },
    {
      "metadata": {
        "id": "2e5KkKPo0OzO",
        "colab_type": "code",
        "colab": {}
      },
      "cell_type": "code",
      "source": [
        "x_vals=Features.values\n",
        "y_vals = Thermoplan[column_name1].values"
      ],
      "execution_count": 0,
      "outputs": []
    },
    {
      "metadata": {
        "id": "MT9ZxQWdC3C_",
        "colab_type": "code",
        "colab": {}
      },
      "cell_type": "code",
      "source": [
        "# Create graph session \n",
        "sess = tf.Session()\n",
        "tf.set_random_seed(2)\n",
        "np.random.seed(2)  "
      ],
      "execution_count": 0,
      "outputs": []
    },
    {
      "metadata": {
        "id": "9vbwK-xlC3DF",
        "colab_type": "code",
        "colab": {}
      },
      "cell_type": "code",
      "source": [
        "# Split into train/test = 80%/20%\n",
        "train_indices = np.random.choice(len(x_vals), int(round(len(x_vals)*0.8)), replace=False)\n",
        "test_indices = np.array(list(set(range(len(x_vals))) - set(train_indices)))\n",
        "x_vals_train = x_vals[train_indices]\n",
        "x_vals_test = x_vals[test_indices]\n",
        "y_vals_train = y_vals[train_indices]\n",
        "y_vals_test = y_vals[test_indices]"
      ],
      "execution_count": 0,
      "outputs": []
    },
    {
      "metadata": {
        "id": "vjcSdOhrC3DI",
        "colab_type": "code",
        "colab": {}
      },
      "cell_type": "code",
      "source": [
        "# Normalize by column (min-max norm)\n",
        "def normalize_cols(m):\n",
        "    col_max = m.max(axis=0)\n",
        "    col_min = m.min(axis=0)\n",
        "    return (m-col_min) / (col_max - col_min)\n",
        "    \n",
        "x_vals_train = np.nan_to_num(normalize_cols(x_vals_train))\n",
        "x_vals_test = np.nan_to_num(normalize_cols(x_vals_test))"
      ],
      "execution_count": 0,
      "outputs": []
    },
    {
      "metadata": {
        "id": "2wzI17S6C3DN",
        "colab_type": "code",
        "colab": {}
      },
      "cell_type": "code",
      "source": [
        "#Declare batch size and initialize placeholders\n",
        "batch_size = 5\n",
        "x_data = tf.placeholder(shape=[None, number_of_features], dtype=tf.float32)\n",
        "y_target = tf.placeholder(shape=[None, 1], dtype=tf.float32)"
      ],
      "execution_count": 0,
      "outputs": []
    },
    {
      "metadata": {
        "id": "anrEJpGIC3DR",
        "colab_type": "code",
        "colab": {}
      },
      "cell_type": "code",
      "source": [
        "# Create variables for both NN layers\n",
        "hidden_layer_nodes = number_of_features\n",
        "A1 = tf.Variable(tf.random_normal(shape=[number_of_features,hidden_layer_nodes])) # inputs -> hidden nodes\n",
        "b1 = tf.Variable(tf.random_normal(shape=[hidden_layer_nodes]))   # one biases for each hidden node\n",
        "A2 = tf.Variable(tf.random_normal(shape=[hidden_layer_nodes,1])) # hidden inputs -> 1 output\n",
        "b2 = tf.Variable(tf.random_normal(shape=[1]))   # 1 bias for the output\n",
        "\n",
        "\n",
        "# Declare model operations\n",
        "hidden_output = tf.nn.relu(tf.add(tf.matmul(x_data, A1), b1))\n",
        "final_output = tf.nn.relu(tf.add(tf.matmul(hidden_output, A2), b2))\n",
        "\n",
        "# Declare loss function (MSE)\n",
        "loss = tf.reduce_mean(tf.square(y_target - final_output))\n",
        "\n",
        "# Declare optimizer\n",
        "my_opt = tf.train.GradientDescentOptimizer(0.05)\n",
        "train_step = my_opt.minimize(loss)"
      ],
      "execution_count": 0,
      "outputs": []
    },
    {
      "metadata": {
        "id": "J-rRf0m0C3DU",
        "colab_type": "code",
        "outputId": "bb635d8f-1a30-49aa-89e9-110dbb4926e7",
        "colab": {
          "base_uri": "https://localhost:8080/",
          "height": 188
        }
      },
      "cell_type": "code",
      "source": [
        "# Initialize variables\n",
        "init = tf.global_variables_initializer()\n",
        "sess.run(init)\n",
        "\n",
        "# Training loop\n",
        "loss_vec = []\n",
        "test_loss = []\n",
        "for i in range(500):\n",
        "    rand_index = np.random.choice(len(x_vals_train), size=batch_size)\n",
        "    rand_x = x_vals_train[rand_index]\n",
        "    rand_y = np.transpose([y_vals_train[rand_index]])\n",
        "    sess.run(train_step, feed_dict={x_data: rand_x, y_target: rand_y})\n",
        "\n",
        "    temp_loss = sess.run(loss, feed_dict={x_data: rand_x, y_target: rand_y})\n",
        "    loss_vec.append(np.sqrt(temp_loss))\n",
        "    \n",
        "    test_temp_loss = sess.run(loss, feed_dict={x_data: x_vals_test, y_target: np.transpose([y_vals_test])})\n",
        "    test_loss.append(np.sqrt(test_temp_loss))\n",
        "    if (i+1)%50==0:\n",
        "        print('Generation: ' + str(i+1) + '. Loss = ' + str(temp_loss))"
      ],
      "execution_count": 0,
      "outputs": [
        {
          "output_type": "stream",
          "text": [
            "Generation: 50. Loss = 6907353.5\n",
            "Generation: 100. Loss = 7917007.0\n",
            "Generation: 150. Loss = 6566889.0\n",
            "Generation: 200. Loss = 7049410.5\n",
            "Generation: 250. Loss = 6544917.5\n",
            "Generation: 300. Loss = 6970142.5\n",
            "Generation: 350. Loss = 7418797.0\n",
            "Generation: 400. Loss = 6879322.5\n",
            "Generation: 450. Loss = 6928035.0\n",
            "Generation: 500. Loss = 7454025.0\n"
          ],
          "name": "stdout"
        }
      ]
    },
    {
      "metadata": {
        "id": "ELQjhro4C3DZ",
        "colab_type": "code",
        "outputId": "d95b1d71-ac88-40da-8c33-48579660f3e7",
        "colab": {
          "base_uri": "https://localhost:8080/",
          "height": 298
        }
      },
      "cell_type": "code",
      "source": [
        "%matplotlib inline\n",
        "# Plot loss over time\n",
        "plt.plot(loss_vec, 'k-', label='Train Loss')\n",
        "plt.plot(test_loss, 'r--', label='Test Loss')\n",
        "plt.title('Loss per Generation')\n",
        "plt.legend(loc='upper right')\n",
        "plt.xlabel('Generation')\n",
        "plt.ylabel('Loss')\n",
        "plt.show()"
      ],
      "execution_count": 0,
      "outputs": [
        {
          "output_type": "display_data",
          "data": {
            "image/png": "[encoded data removed]",
            "text/plain": [
              "<Figure size 432x288 with 1 Axes>"
            ]
          },
          "metadata": {
            "tags": []
          }
        }
      ]
    },
    {
      "metadata": {
        "id": "SMUkn86BC3Dc",
        "colab_type": "code",
        "colab": {}
      },
      "cell_type": "code",
      "source": [
        ""
      ],
      "execution_count": 0,
      "outputs": []
    },
    {
      "metadata": {
        "id": "9aW-u4YqM8gq",
        "colab_type": "text"
      },
      "cell_type": "markdown",
      "source": [
        "#2.  Implementing a one-layer Neural Network\n",
        "\n",
        "\n",
        "We will illustrate how to create a x hidden layer NN\n",
        "\n",
        "Input: One single valiable historic data "
      ]
    },
    {
      "metadata": {
        "id": "u2gzKQOCP7Cv",
        "colab_type": "code",
        "colab": {}
      },
      "cell_type": "code",
      "source": [
        "#May be skiped if already run before\n",
        "import numpy as np\n",
        "import os\n",
        "import pandas as pd\n",
        "import matplotlib.pyplot as plt\n",
        "import tensorflow as tf\n",
        "from sklearn import datasets\n",
        "from tensorflow.python.framework import ops\n",
        "from sklearn.preprocessing import StandardScaler\n",
        "\n",
        "# We'll tell matplotlib to inline any drawn figures like so:\n",
        "%matplotlib inline\n",
        "plt.style.use('ggplot')"
      ],
      "execution_count": 0,
      "outputs": []
    },
    {
      "metadata": {
        "id": "BYQO_7amNZHf",
        "colab_type": "code",
        "colab": {}
      },
      "cell_type": "code",
      "source": [
        "#Was not able to access the data after mounting the drive. Used this code\n",
        "\n",
        "Thermoplan = pd.read_csv('Thermoplan_Mean_Agg_pushed.csv')\n",
        "#column name to forecast - predict a UUID - provide 2-3 potential UUID's\n",
        "column_name3 = 'CAC59BCDBE86370D840726487D717367'\n",
        "column_name2 = '026CBAE094394E01A29914AF256DD413'\n",
        "column_name1 = '8C5BBAAB7A213D69885122F2BF3E986C'\n",
        "data = Thermoplan[column_name1].values"
      ],
      "execution_count": 0,
      "outputs": []
    },
    {
      "metadata": {
        "id": "OK5jIXl9Msob",
        "colab_type": "code",
        "colab": {}
      },
      "cell_type": "code",
      "source": [
        "window_size = 20\n",
        "x_vals = []\n",
        "y_vals = []\n",
        "    \n",
        "i = 0\n",
        "while (i + window_size) <= len(data)-1:\n",
        "    x_vals.append(list(data[i:i+window_size]))\n",
        "    y_vals.append(data[i+window_size])\n",
        "    i += 1\n",
        "\n"
      ],
      "execution_count": 0,
      "outputs": []
    },
    {
      "metadata": {
        "id": "1lSQDDk5uM_3",
        "colab_type": "code",
        "colab": {}
      },
      "cell_type": "code",
      "source": [
        "x_vals=np.array(x_vals)\n",
        "y_vals=np.array(y_vals)"
      ],
      "execution_count": 0,
      "outputs": []
    },
    {
      "metadata": {
        "id": "2-C0b-MhOJxb",
        "colab_type": "code",
        "colab": {}
      },
      "cell_type": "code",
      "source": [
        "# Create graph session \n",
        "sess = tf.Session()\n",
        "tf.set_random_seed(2)\n",
        "np.random.seed(2)  "
      ],
      "execution_count": 0,
      "outputs": []
    },
    {
      "metadata": {
        "id": "fUPS_2gdO7zD",
        "colab_type": "code",
        "colab": {}
      },
      "cell_type": "code",
      "source": [
        "# Split into train/test = 80%/20%\n",
        "train_indices = np.random.choice(len(x_vals), int(round(len(x_vals)*0.8)), replace=False)\n",
        "test_indices = np.array(list(set(range(len(x_vals))) - set(train_indices)))\n",
        "x_vals_train = x_vals[train_indices]\n",
        "x_vals_test = x_vals[test_indices]\n",
        "y_vals_train = y_vals[train_indices]\n",
        "y_vals_test = y_vals[test_indices]"
      ],
      "execution_count": 0,
      "outputs": []
    },
    {
      "metadata": {
        "colab_type": "code",
        "id": "dX2hvtFSvSYT",
        "colab": {}
      },
      "cell_type": "code",
      "source": [
        "# Normalize by column (min-max norm)\n",
        "def normalize_cols(m):\n",
        "    col_max = m.max(axis=0)\n",
        "    col_min = m.min(axis=0)\n",
        "    return (m-col_min) / (col_max - col_min)\n",
        "    \n",
        "x_vals_train = np.nan_to_num(normalize_cols(x_vals_train))\n",
        "x_vals_test = np.nan_to_num(normalize_cols(x_vals_test))"
      ],
      "execution_count": 0,
      "outputs": []
    },
    {
      "metadata": {
        "colab_type": "code",
        "id": "vQ9JoaMQvSYX",
        "colab": {}
      },
      "cell_type": "code",
      "source": [
        "#Declare batch size and initialize placeholders\n",
        "batch_size = 5\n",
        "x_data = tf.placeholder(shape=[None, window_size], dtype=tf.float32)\n",
        "y_target = tf.placeholder(shape=[None, 1], dtype=tf.float32)"
      ],
      "execution_count": 0,
      "outputs": []
    },
    {
      "metadata": {
        "colab_type": "code",
        "id": "i0RBfdnlvSYa",
        "colab": {}
      },
      "cell_type": "code",
      "source": [
        "# Create variables for both NN layers\n",
        "hidden_layer_nodes = 7\n",
        "A1 = tf.Variable(tf.random_normal(shape=[window_size,hidden_layer_nodes])) # inputs -> hidden nodes\n",
        "b1 = tf.Variable(tf.random_normal(shape=[hidden_layer_nodes]))   # one biases for each hidden node\n",
        "A2 = tf.Variable(tf.random_normal(shape=[hidden_layer_nodes,1])) # hidden inputs -> 1 output\n",
        "b2 = tf.Variable(tf.random_normal(shape=[1]))   # 1 bias for the output\n",
        "\n",
        "\n",
        "# Declare model operations\n",
        "hidden_output = tf.nn.relu(tf.add(tf.matmul(x_data, A1), b1))\n",
        "final_output = tf.nn.relu(tf.add(tf.matmul(hidden_output, A2), b2))\n",
        "\n",
        "# Declare loss function (MSE)\n",
        "loss = tf.reduce_mean(tf.square(y_target - final_output))\n",
        "\n",
        "# Declare optimizer\n",
        "my_opt = tf.train.GradientDescentOptimizer(0.05)\n",
        "train_step = my_opt.minimize(loss)"
      ],
      "execution_count": 0,
      "outputs": []
    },
    {
      "metadata": {
        "colab_type": "code",
        "outputId": "d770ef4d-38e6-4a4b-d63c-99378a8fd49d",
        "id": "87DyQlMqvSYd",
        "colab": {
          "base_uri": "https://localhost:8080/",
          "height": 703
        }
      },
      "cell_type": "code",
      "source": [
        "# Initialize variables\n",
        "init = tf.global_variables_initializer()\n",
        "sess.run(init)\n",
        "\n",
        "# Training loop\n",
        "loss_vec = []\n",
        "test_loss = []\n",
        "for i in range(2000):\n",
        "    rand_index = np.random.choice(len(x_vals_train), size=batch_size)\n",
        "    rand_x = x_vals_train[rand_index]\n",
        "    rand_y = np.transpose([y_vals_train[rand_index]])\n",
        "    sess.run(train_step, feed_dict={x_data: rand_x, y_target: rand_y})\n",
        "\n",
        "    temp_loss = sess.run(loss, feed_dict={x_data: rand_x, y_target: rand_y})\n",
        "    loss_vec.append(np.sqrt(temp_loss))\n",
        "    \n",
        "    test_temp_loss = sess.run(loss, feed_dict={x_data: x_vals_test, y_target: np.transpose([y_vals_test])})\n",
        "    test_loss.append(np.sqrt(test_temp_loss))\n",
        "    if (i+1)%50==0:\n",
        "        print('Generation: ' + str(i+1) + '. Loss = ' + str(temp_loss))"
      ],
      "execution_count": 0,
      "outputs": [
        {
          "output_type": "stream",
          "text": [
            "Generation: 50. Loss = 6902516.0\n",
            "Generation: 100. Loss = 7360501.0\n",
            "Generation: 150. Loss = 7418073.5\n",
            "Generation: 200. Loss = 7846994.5\n",
            "Generation: 250. Loss = 7887031.0\n",
            "Generation: 300. Loss = 7313721.5\n",
            "Generation: 350. Loss = 6891773.0\n",
            "Generation: 400. Loss = 7840581.5\n",
            "Generation: 450. Loss = 7036938.5\n",
            "Generation: 500. Loss = 7840549.5\n",
            "Generation: 550. Loss = 7877818.5\n",
            "Generation: 600. Loss = 7817214.5\n",
            "Generation: 650. Loss = 7333046.5\n",
            "Generation: 700. Loss = 7842755.0\n",
            "Generation: 750. Loss = 7887050.5\n",
            "Generation: 800. Loss = 7439421.0\n",
            "Generation: 850. Loss = 6528203.5\n",
            "Generation: 900. Loss = 7010693.5\n",
            "Generation: 950. Loss = 6987715.0\n",
            "Generation: 1000. Loss = 7811769.0\n",
            "Generation: 1050. Loss = 7011096.0\n",
            "Generation: 1100. Loss = 7457251.0\n",
            "Generation: 1150. Loss = 7448961.0\n",
            "Generation: 1200. Loss = 7880951.0\n",
            "Generation: 1250. Loss = 7779741.5\n",
            "Generation: 1300. Loss = 7051133.5\n",
            "Generation: 1350. Loss = 7358697.5\n",
            "Generation: 1400. Loss = 7891313.0\n",
            "Generation: 1450. Loss = 7053386.5\n",
            "Generation: 1500. Loss = 7019357.0\n",
            "Generation: 1550. Loss = 6610652.0\n",
            "Generation: 1600. Loss = 6943864.0\n",
            "Generation: 1650. Loss = 6971378.5\n",
            "Generation: 1700. Loss = 7856793.0\n",
            "Generation: 1750. Loss = 8251072.0\n",
            "Generation: 1800. Loss = 7374365.0\n",
            "Generation: 1850. Loss = 7435542.5\n",
            "Generation: 1900. Loss = 7410112.0\n",
            "Generation: 1950. Loss = 7465277.5\n",
            "Generation: 2000. Loss = 7819607.0\n"
          ],
          "name": "stdout"
        }
      ]
    },
    {
      "metadata": {
        "colab_type": "code",
        "outputId": "79557410-5d1f-4085-c3c3-4551441b84c6",
        "id": "MnfULS2zvSYi",
        "colab": {
          "base_uri": "https://localhost:8080/",
          "height": 298
        }
      },
      "cell_type": "code",
      "source": [
        "%matplotlib inline\n",
        "# Plot loss over time\n",
        "plt.plot(loss_vec, 'k-', label='Train Loss')\n",
        "plt.plot(test_loss, 'r--', label='Test Loss')\n",
        "plt.title('Loss per Generation')\n",
        "plt.legend(loc='upper right')\n",
        "plt.xlabel('Generation')\n",
        "plt.ylabel('Loss')\n",
        "plt.show()"
      ],
      "execution_count": 0,
      "outputs": [
        {
          "output_type": "display_data",
          "data": {
            "image/png": "[encoded data removed]",
            "text/plain": [
              "<Figure size 432x288 with 1 Axes>"
            ]
          },
          "metadata": {
            "tags": []
          }
        }
      ]
    }
  ]
}