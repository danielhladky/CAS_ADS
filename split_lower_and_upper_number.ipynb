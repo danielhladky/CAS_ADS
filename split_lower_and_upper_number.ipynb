{
  "nbformat": 4,
  "nbformat_minor": 0,
  "metadata": {
    "colab": {
      "name": "split lower and upper number.ipynb",
      "version": "0.3.2",
      "provenance": [],
      "include_colab_link": true
    },
    "kernelspec": {
      "name": "python3",
      "display_name": "Python 3"
    }
  },
  "cells": [
    {
      "cell_type": "markdown",
      "metadata": {
        "id": "view-in-github",
        "colab_type": "text"
      },
      "source": [
        "<a href=\"https://colab.research.google.com/github/danielhladky/CAS_ADS/blob/master/split_lower_and_upper_number.ipynb\" target=\"_parent\"><img src=\"https://colab.research.google.com/assets/colab-badge.svg\" alt=\"Open In Colab\"/></a>"
      ]
    },
    {
      "metadata": {
        "id": "Tf4el68vmLwQ",
        "colab_type": "code",
        "colab": {
          "base_uri": "https://localhost:8080/",
          "height": 51
        },
        "outputId": "10e09a17-d938-45c1-b055-a95495af29d1"
      },
      "cell_type": "code",
      "source": [
        "# set the midpoint\n",
        "midpoint = 5\n",
        "# make two empty lists\n",
        "lower = []; upper = []\n",
        "\n",
        "#split the numbers into lower and upper\n",
        "for i in range(10):\n",
        "  if (i < midpoint):\n",
        "    lower.append(i)\n",
        "  else:\n",
        "    upper.append(i)\n",
        "    \n",
        "print(\"lower:\", lower)\n",
        "print(\"upper\", upper)"
      ],
      "execution_count": 1,
      "outputs": [
        {
          "output_type": "stream",
          "text": [
            "lower: [0, 1, 2, 3, 4]\n",
            "upper [5, 6, 7, 8, 9]\n"
          ],
          "name": "stdout"
        }
      ]
    }
  ]
}