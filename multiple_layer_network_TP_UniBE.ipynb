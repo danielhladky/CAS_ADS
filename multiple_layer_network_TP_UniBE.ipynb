{
  "nbformat": 4,
  "nbformat_minor": 0,
  "metadata": {
    "colab": {
      "name": "multiple_layer_network_TP_UniBE.ipynb",
      "version": "0.3.2",
      "provenance": [],
      "collapsed_sections": [],
      "include_colab_link": true
    },
    "kernelspec": {
      "display_name": "Python 3",
      "language": "python",
      "name": "python3"
    }
  },
  "cells": [
    {
      "cell_type": "markdown",
      "metadata": {
        "id": "view-in-github",
        "colab_type": "text"
      },
      "source": [
        "<a href=\"https://colab.research.google.com/github/danielhladky/CAS_ADS/blob/master/multiple_layer_network_TP_UniBE.ipynb\" target=\"_parent\"><img src=\"https://colab.research.google.com/assets/colab-badge.svg\" alt=\"Open In Colab\"/></a>"
      ]
    },
    {
      "metadata": {
        "id": "6oQ3XlqaBx82",
        "colab_type": "text"
      },
      "cell_type": "markdown",
      "source": [
        "# Abstract\n",
        "\n",
        "## Predictive Inventory Management\n",
        "\n",
        "### Authors: Daniel Hladky and Vadim Peshekhonov\n",
        "\n",
        "Integrum Solution AG works on specific customer projects. Within this work the aim is to predict the inventory based on the historical consumption of data. The data has been already extracted and cleaned and are available in a CSV format. The aim is to get 2 years of historical data and to train two models (e.g. LSTM and GradientBoosting) that will give a simple view of the stock movement. The regression will be implemented in Keras or TensorFlow and Scikit-Learn.\n",
        "\n",
        "Links to datasets you may use: Customer specific historical data as CSV The data will be kind of anonymous. Only UUID (individual stock within supply chain is shown withut customer name)\n",
        "\n",
        "Date: 19 February 2019 (project presentation at UniBE)\n",
        "\n",
        "## Module 3 - UniBE - CAS Applied Data Science\n",
        "For the module 3 we have elaborated on various aspects and created different notebooks within Colab or jupyter notebooks. \n",
        "\n",
        "### Part I   -  Data Analysis, XGB, Lasso, Ridge(Time_series_analysis_TP_UniBE.ipynb)\n",
        "### Part II  -  TensorFlow (TF) LSTM  (BAG_TP_ML_DL_UniBE.ipynb)\n",
        "### Part III -  TF single hidden layer (TP_single_hidden_layer_network_ipynb.ipynb)\n",
        "### Part IV -  TF FullyConnected_MultiLayer(multiple_layer_network_TP_UniBE.ipynb)"
      ]
    },
    {
      "metadata": {
        "id": "BUt0NrCoJaSA",
        "colab_type": "text"
      },
      "cell_type": "markdown",
      "source": [
        "# Using a Multiple Layer Network\n",
        "\n",
        "\n",
        "We will illustrate how to use a Multiple Layer Network in TensorFlow\n",
        "\n",
        "\n",
        "The multiple neural network layer we will create will be composed of three fully connected hidden layers, with node sizes 50, 25, and 5"
      ]
    },
    {
      "metadata": {
        "id": "0Ja4DUWOJaSB",
        "colab_type": "code",
        "colab": {}
      },
      "cell_type": "code",
      "source": [
        "import tensorflow as tf\n",
        "import matplotlib.pyplot as plt\n",
        "import csv\n",
        "import os\n",
        "import os.path\n",
        "import random\n",
        "import numpy as np\n",
        "import random\n",
        "import requests\n",
        "from tensorflow.python.framework import ops\n",
        "import pandas as pd"
      ],
      "execution_count": 0,
      "outputs": []
    },
    {
      "metadata": {
        "id": "Pz36IKVVKD5c",
        "colab_type": "code",
        "colab": {}
      },
      "cell_type": "code",
      "source": [
        "Thermoplan = pd.read_csv('Thermoplan_Mean_Agg_pushed.csv')\n",
        "#column name to forecast - predict a UUID - provide 2-3 potential UUID's\n",
        "column_name3 = 'CAC59BCDBE86370D840726487D717367'\n",
        "column_name2 = '026CBAE094394E01A29914AF256DD413'\n",
        "column_name1 = '8C5BBAAB7A213D69885122F2BF3E986C'\n",
        "data = Thermoplan[column_name1].values"
      ],
      "execution_count": 0,
      "outputs": []
    },
    {
      "metadata": {
        "id": "OK5jIXl9Msob",
        "colab_type": "code",
        "colab": {}
      },
      "cell_type": "code",
      "source": [
        "window_size = 8\n",
        "x_vals = []\n",
        "y_vals = []\n",
        "    \n",
        "i = 0\n",
        "while (i + window_size) <= len(data)-1:\n",
        "    x_vals.append(list(data[i:i+window_size]))\n",
        "    y_vals.append(data[i+window_size])\n",
        "    i += 1\n",
        "\n"
      ],
      "execution_count": 0,
      "outputs": []
    },
    {
      "metadata": {
        "id": "1lSQDDk5uM_3",
        "colab_type": "code",
        "colab": {}
      },
      "cell_type": "code",
      "source": [
        "x_vals=np.array(x_vals)\n",
        "y_vals=np.array(y_vals)"
      ],
      "execution_count": 0,
      "outputs": []
    },
    {
      "metadata": {
        "id": "_v02DT6yJaSJ",
        "colab_type": "text"
      },
      "cell_type": "markdown",
      "source": [
        "## Train model\n"
      ]
    },
    {
      "metadata": {
        "id": "4MEcehxIJaSK",
        "colab_type": "code",
        "colab": {}
      },
      "cell_type": "code",
      "source": [
        "# reset the graph for new run\n",
        "ops.reset_default_graph()\n",
        "\n",
        "# Create graph session \n",
        "sess = tf.Session()\n",
        "\n",
        "# set batch size for training\n",
        "batch_size = 150\n",
        "\n",
        "# make results reproducible\n",
        "seed = 3\n",
        "np.random.seed(seed)\n",
        "tf.set_random_seed(seed)\n",
        "\n",
        "# Split data into train/test = 80%/20%\n",
        "train_indices = np.random.choice(len(x_vals), round(len(x_vals)*0.8), replace=False)\n",
        "test_indices = np.array(list(set(range(len(x_vals))) - set(train_indices)))\n",
        "x_vals_train = x_vals[train_indices]\n",
        "x_vals_test = x_vals[test_indices]\n",
        "y_vals_train = y_vals[train_indices]\n",
        "y_vals_test = y_vals[test_indices]"
      ],
      "execution_count": 0,
      "outputs": []
    },
    {
      "metadata": {
        "id": "6_caXeV2JaSO",
        "colab_type": "code",
        "colab": {}
      },
      "cell_type": "code",
      "source": [
        "# Record training column max and min for scaling of non-training data\n",
        "train_max = np.max(x_vals_train, axis=0)\n",
        "train_min = np.min(x_vals_train, axis=0)\n",
        "\n",
        "# Normalize by column (min-max norm to be between 0 and 1)\n",
        "def normalize_cols(mat, max_vals, min_vals):\n",
        "    return (mat - min_vals) / (max_vals - min_vals)\n",
        "\n",
        "x_vals_train = np.nan_to_num(normalize_cols(x_vals_train, train_max, train_min))\n",
        "x_vals_test = np.nan_to_num(normalize_cols(x_vals_test, train_max, train_min))"
      ],
      "execution_count": 0,
      "outputs": []
    },
    {
      "metadata": {
        "id": "yfzh62TkJaSS",
        "colab_type": "code",
        "colab": {}
      },
      "cell_type": "code",
      "source": [
        "# Define Variable Functions (weights and bias)\n",
        "def init_weight(shape, st_dev):\n",
        "    weight = tf.Variable(tf.random_normal(shape, stddev=st_dev))\n",
        "    return(weight)\n",
        "    \n",
        "\n",
        "def init_bias(shape, st_dev):\n",
        "    bias = tf.Variable(tf.random_normal(shape, stddev=st_dev))\n",
        "    return(bias)\n",
        "    \n",
        "    \n",
        "# Create Placeholders\n",
        "x_data = tf.placeholder(shape=[None, 8], dtype=tf.float32)\n",
        "y_target = tf.placeholder(shape=[None, 1], dtype=tf.float32)"
      ],
      "execution_count": 0,
      "outputs": []
    },
    {
      "metadata": {
        "id": "ma4gd0sTJaSY",
        "colab_type": "code",
        "colab": {}
      },
      "cell_type": "code",
      "source": [
        "# Create a fully connected layer:\n",
        "def fully_connected(input_layer, weights, biases):\n",
        "    layer = tf.add(tf.matmul(input_layer, weights), biases)\n",
        "    return(tf.nn.relu(layer))\n",
        "\n",
        "\n",
        "#--------Create the first layer (50 hidden nodes)--------\n",
        "weight_1 = init_weight(shape=[8, 25], st_dev=10.0)\n",
        "bias_1 = init_bias(shape=[25], st_dev=10.0)\n",
        "layer_1 = fully_connected(x_data, weight_1, bias_1)\n",
        "\n",
        "#--------Create second layer (25 hidden nodes)--------\n",
        "weight_2 = init_weight(shape=[25, 10], st_dev=10.0)\n",
        "bias_2 = init_bias(shape=[10], st_dev=10.0)\n",
        "layer_2 = fully_connected(layer_1, weight_2, bias_2)\n",
        "\n",
        "\n",
        "#--------Create third layer (5 hidden nodes)--------\n",
        "weight_3 = init_weight(shape=[10, 3], st_dev=10.0)\n",
        "bias_3 = init_bias(shape=[3], st_dev=10.0)\n",
        "layer_3 = fully_connected(layer_2, weight_3, bias_3)\n",
        "\n",
        "\n",
        "#--------Create output layer (1 output value)--------\n",
        "weight_4 = init_weight(shape=[3, 1], st_dev=10.0)\n",
        "bias_4 = init_bias(shape=[1], st_dev=10.0)\n",
        "final_output = fully_connected(layer_3, weight_4, bias_4)\n",
        "\n",
        "# Declare loss function (L1)\n",
        "loss = tf.reduce_mean(tf.abs(y_target - final_output))\n",
        "\n",
        "# Declare optimizer\n",
        "my_opt = tf.train.AdamOptimizer(0.025)\n",
        "train_step = my_opt.minimize(loss)"
      ],
      "execution_count": 0,
      "outputs": []
    },
    {
      "metadata": {
        "id": "xlnxLLU6JaSd",
        "colab_type": "code",
        "outputId": "291399e6-961f-4b61-9c04-bfe143bd9e8e",
        "colab": {
          "base_uri": "https://localhost:8080/",
          "height": 360
        }
      },
      "cell_type": "code",
      "source": [
        "# Initialize Variables\n",
        "init = tf.global_variables_initializer()\n",
        "sess.run(init)\n",
        "\n",
        "# Training loop\n",
        "loss_vec = []\n",
        "test_loss = []\n",
        "for i in range(500):\n",
        "    rand_index = np.random.choice(len(x_vals_train), size=batch_size)\n",
        "    rand_x = x_vals_train[rand_index]\n",
        "    rand_y = np.transpose([y_vals_train[rand_index]])\n",
        "    sess.run(train_step, feed_dict={x_data: rand_x, y_target: rand_y})\n",
        "\n",
        "    temp_loss = sess.run(loss, feed_dict={x_data: rand_x, y_target: rand_y})\n",
        "    loss_vec.append(temp_loss)\n",
        "    \n",
        "    test_temp_loss = sess.run(loss, feed_dict={x_data: x_vals_test, y_target: np.transpose([y_vals_test])})\n",
        "    test_loss.append(test_temp_loss)\n",
        "    if (i+1) % 25 == 0:\n",
        "        print('Generation: ' + str(i+1) + '. Loss = ' + str(temp_loss))"
      ],
      "execution_count": 0,
      "outputs": [
        {
          "output_type": "stream",
          "text": [
            "Generation: 25. Loss = 30220.754\n",
            "Generation: 50. Loss = 10385.852\n",
            "Generation: 75. Loss = 2836.1804\n",
            "Generation: 100. Loss = 2331.0613\n",
            "Generation: 125. Loss = 2165.952\n",
            "Generation: 150. Loss = 2007.0436\n",
            "Generation: 175. Loss = 1995.888\n",
            "Generation: 200. Loss = 1763.2795\n",
            "Generation: 225. Loss = 1607.3531\n",
            "Generation: 250. Loss = 2009.6138\n",
            "Generation: 275. Loss = 1676.3534\n",
            "Generation: 300. Loss = 1611.5719\n",
            "Generation: 325. Loss = 1754.219\n",
            "Generation: 350. Loss = 1699.7028\n",
            "Generation: 375. Loss = 1878.68\n",
            "Generation: 400. Loss = 1699.497\n",
            "Generation: 425. Loss = 1648.022\n",
            "Generation: 450. Loss = 1766.862\n",
            "Generation: 475. Loss = 1769.5991\n",
            "Generation: 500. Loss = 1738.8895\n"
          ],
          "name": "stdout"
        }
      ]
    },
    {
      "metadata": {
        "id": "HjJ81vr8JaSj",
        "colab_type": "code",
        "outputId": "9c05f4d6-dcfe-4890-9203-233f70fc9afd",
        "colab": {
          "base_uri": "https://localhost:8080/",
          "height": 294
        }
      },
      "cell_type": "code",
      "source": [
        "%matplotlib inline\n",
        "# Plot loss (MSE) over time\n",
        "plt.plot(loss_vec, 'k-', label='Train Loss')\n",
        "plt.plot(test_loss, 'r--', label='Test Loss')\n",
        "plt.title('Loss (MSE) per Generation')\n",
        "plt.legend(loc='upper right')\n",
        "plt.xlabel('Generation')\n",
        "plt.ylabel('Loss')\n",
        "plt.show()"
      ],
      "execution_count": 0,
      "outputs": [
        {
          "output_type": "display_data",
          "data": {
            "image/png": "[encoded data removed]",
            "text/plain": [
              "<Figure size 432x288 with 1 Axes>"
            ]
          },
          "metadata": {
            "tags": []
          }
        }
      ]
    }
  ]
}