{
  "nbformat": 4,
  "nbformat_minor": 0,
  "metadata": {
    "colab": {
      "name": "BAG_TP_ML_DL_UniBE.ipynb",
      "version": "0.3.2",
      "provenance": [],
      "collapsed_sections": [],
      "include_colab_link": true
    },
    "kernelspec": {
      "name": "python3",
      "display_name": "Python 3"
    },
    "accelerator": "GPU"
  },
  "cells": [
    {
      "cell_type": "markdown",
      "metadata": {
        "id": "view-in-github",
        "colab_type": "text"
      },
      "source": [
        "<a href=\"https://colab.research.google.com/github/danielhladky/CAS_ADS/blob/master/BAG_TP_ML_DL_UniBE.ipynb\" target=\"_parent\"><img src=\"https://colab.research.google.com/assets/colab-badge.svg\" alt=\"Open In Colab\"/></a>"
      ]
    },
    {
      "metadata": {
        "id": "U7DO-EzMUTBm",
        "colab_type": "text"
      },
      "cell_type": "markdown",
      "source": [
        "# Abstract\n",
        "\n",
        "## Predictive Inventory Management\n",
        "\n",
        "### Authors: Daniel Hladky and Vadim Peshekhonov\n",
        "\n",
        "Integrum Solution AG works on specific customer projects. Within this work the aim is to predict the inventory based on the historical consumption of data. The data has been already extracted and cleaned and are available in a CSV format. The aim is to get 2 years of historical data and to train two models (e.g. LSTM and GradientBoosting) that will give a simple view of the stock movement. The regression will be implemented in Keras or TensorFlow and Scikit-Learn.\n",
        "\n",
        "Links to datasets you may use: Customer specific historical data as CSV The data will be kind of anonymous. Only UUID (individual stock within supply chain is shown withut customer name)\n",
        "\n",
        "Date: 19 February 2019 (project presentation at UniBE)\n",
        "\n",
        "## Module 3 - UniBE - CAS Applied Data Science\n",
        "For the module 3 we have elaborated on various aspects and created different notebooks within Colab or jupyter notebooks. \n",
        "\n",
        "### Part I   -  Data Analysis, XGB, Lasso, Ridge(Time_series_analysis_TP_UniBE.ipynb)\n",
        "### Part II  -  TensorFlow (TF) LSTM  (BAG_TP_ML_DL_UniBE.ipynb)\n",
        "### Part III -  TF single hidden layer (TP_single_hidden_layer_network_ipynb.ipynb)\n",
        "### Part IV -  TF FullyConnected_MultiLayer(multiple_layer_network_TP_UniBE.ipynb)"
      ]
    },
    {
      "metadata": {
        "id": "WEIH55uLQiRO",
        "colab_type": "code",
        "outputId": "36a812f9-4838-4bab-e1f6-c77d0c27d1ed",
        "colab": {
          "base_uri": "https://localhost:8080/",
          "height": 17
        }
      },
      "cell_type": "code",
      "source": [
        "import numpy as np\n",
        "import os\n",
        "import pandas as pd\n",
        "import matplotlib.pyplot as plt\n",
        "# We'll tell matplotlib to inline any drawn figures like so:\n",
        "%matplotlib inline\n",
        "plt.style.use('ggplot')\n",
        "\n",
        "from IPython.core.display import HTML\n",
        "HTML(\"\"\"<style> .rendered_html code { \n",
        "    padding: 2px 5px;\n",
        "    color: #0000aa;\n",
        "    background-color: #cccccc;\n",
        "} </style>\"\"\")"
      ],
      "execution_count": 0,
      "outputs": [
        {
          "output_type": "execute_result",
          "data": {
            "text/html": [
              "<style> .rendered_html code { \n",
              "    padding: 2px 5px;\n",
              "    color: #0000aa;\n",
              "    background-color: #cccccc;\n",
              "} </style>"
            ],
            "text/plain": [
              "<IPython.core.display.HTML object>"
            ]
          },
          "metadata": {
            "tags": []
          },
          "execution_count": 1
        }
      ]
    },
    {
      "metadata": {
        "id": "Aq2AmI-sQiRT",
        "colab_type": "code",
        "colab": {}
      },
      "cell_type": "code",
      "source": [
        "# use this code cell when reading the file from jupyther notebook\n",
        "# df = pd.read_csv('Thermoplan_Mean_Agg_pushed.csv')"
      ],
      "execution_count": 0,
      "outputs": []
    },
    {
      "metadata": {
        "id": "4TqPJc8yQ1oK",
        "colab_type": "code",
        "outputId": "39f5365d-4241-4cd5-c66a-c5f5e891be1d",
        "colab": {
          "base_uri": "https://localhost:8080/",
          "height": 124
        }
      },
      "cell_type": "code",
      "source": [
        "# use this code cell to mount the google drive\n",
        "from google.colab import drive\n",
        "drive.mount('/content/drive')"
      ],
      "execution_count": 0,
      "outputs": [
        {
          "output_type": "stream",
          "text": [
            "Go to this URL in a browser: https://accounts.google.com/o/oauth2/auth?client_id=947318989803-6bn6qk8qdgf4n4g3pfee6491hc0brc4i.apps.googleusercontent.com&redirect_uri=urn%3Aietf%3Awg%3Aoauth%3A2.0%3Aoob&scope=email%20https%3A%2F%2Fwww.googleapis.com%2Fauth%2Fdocs.test%20https%3A%2F%2Fwww.googleapis.com%2Fauth%2Fdrive%20https%3A%2F%2Fwww.googleapis.com%2Fauth%2Fdrive.photos.readonly%20https%3A%2F%2Fwww.googleapis.com%2Fauth%2Fpeopleapi.readonly&response_type=code\n",
            "\n",
            "Enter your authorization code:\n",
            "··········\n",
            "Mounted at /content/drive\n"
          ],
          "name": "stdout"
        }
      ]
    },
    {
      "metadata": {
        "id": "AreZERd7RYfB",
        "colab_type": "code",
        "colab": {}
      },
      "cell_type": "code",
      "source": [
        "# After executing the cell above, Drive\n",
        "# files will be present in \"/content/drive/My Drive\".\n",
        "# use next line to display the files if needed\n",
        "#!ls \"/content/drive/My Drive\""
      ],
      "execution_count": 0,
      "outputs": []
    },
    {
      "metadata": {
        "id": "auwhObZVRgCr",
        "colab_type": "code",
        "colab": {}
      },
      "cell_type": "code",
      "source": [
        "# read the file from google drive \n",
        "TP = '/content/drive/My Drive/Datasets_ML/Thermoplan_Mean_Agg_pushed.csv'\n",
        "df = pd.read_csv(TP)"
      ],
      "execution_count": 0,
      "outputs": []
    },
    {
      "metadata": {
        "id": "_q7JtNiUQiRW",
        "colab_type": "code",
        "outputId": "287880a3-0b54-4210-b133-873f36b7e3c8",
        "colab": {
          "base_uri": "https://localhost:8080/",
          "height": 334
        }
      },
      "cell_type": "code",
      "source": [
        "df.head()"
      ],
      "execution_count": 0,
      "outputs": [
        {
          "output_type": "execute_result",
          "data": {
            "text/html": [
              "<div>\n",
              "<style scoped>\n",
              "    .dataframe tbody tr th:only-of-type {\n",
              "        vertical-align: middle;\n",
              "    }\n",
              "\n",
              "    .dataframe tbody tr th {\n",
              "        vertical-align: top;\n",
              "    }\n",
              "\n",
              "    .dataframe thead th {\n",
              "        text-align: right;\n",
              "    }\n",
              "</style>\n",
              "<table border=\"1\" class=\"dataframe\">\n",
              "  <thead>\n",
              "    <tr style=\"text-align: right;\">\n",
              "      <th></th>\n",
              "      <th>Datum</th>\n",
              "      <th>8C5BBAAB7A213D69885122F2BF3E986C</th>\n",
              "      <th>8007D27994553DE180ED809F7B3F32CF</th>\n",
              "      <th>89B81AC901F932769400194890DDBA8F</th>\n",
              "      <th>59A9E02EC2723E87BAE018C58CF08904</th>\n",
              "      <th>08775DFA79D834CEAD88D7EF63185D94</th>\n",
              "      <th>CAC59BCDBE86370D840726487D717367</th>\n",
              "      <th>4F7480C5D69C3247843827DAD299858F</th>\n",
              "      <th>144E15B433E73E5A8B91D5CBE9C8144E</th>\n",
              "      <th>A6E0581580CA324DAF9EB83633973AAD</th>\n",
              "      <th>...</th>\n",
              "      <th>BW3CTS</th>\n",
              "      <th>BW4cCTM</th>\n",
              "      <th>BW4CTM</th>\n",
              "      <th>BWoneCTM</th>\n",
              "      <th>CEM200</th>\n",
              "      <th>CH</th>\n",
              "      <th>CHT</th>\n",
              "      <th>RF3</th>\n",
              "      <th>Tiger</th>\n",
              "      <th>TS3</th>\n",
              "    </tr>\n",
              "  </thead>\n",
              "  <tbody>\n",
              "    <tr>\n",
              "      <th>0</th>\n",
              "      <td>2016-09-01</td>\n",
              "      <td>2430.0</td>\n",
              "      <td>11250.0</td>\n",
              "      <td>782.0</td>\n",
              "      <td>69.0</td>\n",
              "      <td>18298.0</td>\n",
              "      <td>13374.0</td>\n",
              "      <td>352.0</td>\n",
              "      <td>767.0</td>\n",
              "      <td>131.0</td>\n",
              "      <td>...</td>\n",
              "      <td>0</td>\n",
              "      <td>8</td>\n",
              "      <td>0</td>\n",
              "      <td>0</td>\n",
              "      <td>20</td>\n",
              "      <td>0</td>\n",
              "      <td>0</td>\n",
              "      <td>0</td>\n",
              "      <td>0</td>\n",
              "      <td>0</td>\n",
              "    </tr>\n",
              "    <tr>\n",
              "      <th>1</th>\n",
              "      <td>2016-09-02</td>\n",
              "      <td>2430.0</td>\n",
              "      <td>11300.0</td>\n",
              "      <td>794.0</td>\n",
              "      <td>69.0</td>\n",
              "      <td>18298.0</td>\n",
              "      <td>13374.0</td>\n",
              "      <td>352.0</td>\n",
              "      <td>767.0</td>\n",
              "      <td>131.0</td>\n",
              "      <td>...</td>\n",
              "      <td>1</td>\n",
              "      <td>14</td>\n",
              "      <td>0</td>\n",
              "      <td>0</td>\n",
              "      <td>20</td>\n",
              "      <td>1</td>\n",
              "      <td>0</td>\n",
              "      <td>0</td>\n",
              "      <td>0</td>\n",
              "      <td>0</td>\n",
              "    </tr>\n",
              "    <tr>\n",
              "      <th>2</th>\n",
              "      <td>2016-09-03</td>\n",
              "      <td>2430.0</td>\n",
              "      <td>11300.0</td>\n",
              "      <td>794.0</td>\n",
              "      <td>69.0</td>\n",
              "      <td>18298.0</td>\n",
              "      <td>13374.0</td>\n",
              "      <td>352.0</td>\n",
              "      <td>767.0</td>\n",
              "      <td>131.0</td>\n",
              "      <td>...</td>\n",
              "      <td>1</td>\n",
              "      <td>14</td>\n",
              "      <td>0</td>\n",
              "      <td>0</td>\n",
              "      <td>20</td>\n",
              "      <td>1</td>\n",
              "      <td>0</td>\n",
              "      <td>0</td>\n",
              "      <td>0</td>\n",
              "      <td>0</td>\n",
              "    </tr>\n",
              "    <tr>\n",
              "      <th>3</th>\n",
              "      <td>2016-09-04</td>\n",
              "      <td>2430.0</td>\n",
              "      <td>11300.0</td>\n",
              "      <td>797.0</td>\n",
              "      <td>69.0</td>\n",
              "      <td>18298.0</td>\n",
              "      <td>13374.0</td>\n",
              "      <td>352.0</td>\n",
              "      <td>767.0</td>\n",
              "      <td>131.0</td>\n",
              "      <td>...</td>\n",
              "      <td>1</td>\n",
              "      <td>14</td>\n",
              "      <td>0</td>\n",
              "      <td>0</td>\n",
              "      <td>20</td>\n",
              "      <td>1</td>\n",
              "      <td>0</td>\n",
              "      <td>0</td>\n",
              "      <td>0</td>\n",
              "      <td>0</td>\n",
              "    </tr>\n",
              "    <tr>\n",
              "      <th>4</th>\n",
              "      <td>2016-09-05</td>\n",
              "      <td>2430.0</td>\n",
              "      <td>11300.0</td>\n",
              "      <td>797.0</td>\n",
              "      <td>69.0</td>\n",
              "      <td>18298.0</td>\n",
              "      <td>13374.0</td>\n",
              "      <td>399.0</td>\n",
              "      <td>767.0</td>\n",
              "      <td>189.0</td>\n",
              "      <td>...</td>\n",
              "      <td>1</td>\n",
              "      <td>23</td>\n",
              "      <td>0</td>\n",
              "      <td>0</td>\n",
              "      <td>20</td>\n",
              "      <td>1</td>\n",
              "      <td>0</td>\n",
              "      <td>0</td>\n",
              "      <td>0</td>\n",
              "      <td>0</td>\n",
              "    </tr>\n",
              "  </tbody>\n",
              "</table>\n",
              "<p>5 rows × 768 columns</p>\n",
              "</div>"
            ],
            "text/plain": [
              "        Datum  8C5BBAAB7A213D69885122F2BF3E986C  \\\n",
              "0  2016-09-01                            2430.0   \n",
              "1  2016-09-02                            2430.0   \n",
              "2  2016-09-03                            2430.0   \n",
              "3  2016-09-04                            2430.0   \n",
              "4  2016-09-05                            2430.0   \n",
              "\n",
              "   8007D27994553DE180ED809F7B3F32CF  89B81AC901F932769400194890DDBA8F  \\\n",
              "0                           11250.0                             782.0   \n",
              "1                           11300.0                             794.0   \n",
              "2                           11300.0                             794.0   \n",
              "3                           11300.0                             797.0   \n",
              "4                           11300.0                             797.0   \n",
              "\n",
              "   59A9E02EC2723E87BAE018C58CF08904  08775DFA79D834CEAD88D7EF63185D94  \\\n",
              "0                              69.0                           18298.0   \n",
              "1                              69.0                           18298.0   \n",
              "2                              69.0                           18298.0   \n",
              "3                              69.0                           18298.0   \n",
              "4                              69.0                           18298.0   \n",
              "\n",
              "   CAC59BCDBE86370D840726487D717367  4F7480C5D69C3247843827DAD299858F  \\\n",
              "0                           13374.0                             352.0   \n",
              "1                           13374.0                             352.0   \n",
              "2                           13374.0                             352.0   \n",
              "3                           13374.0                             352.0   \n",
              "4                           13374.0                             399.0   \n",
              "\n",
              "   144E15B433E73E5A8B91D5CBE9C8144E  A6E0581580CA324DAF9EB83633973AAD ...   \\\n",
              "0                             767.0                             131.0 ...    \n",
              "1                             767.0                             131.0 ...    \n",
              "2                             767.0                             131.0 ...    \n",
              "3                             767.0                             131.0 ...    \n",
              "4                             767.0                             189.0 ...    \n",
              "\n",
              "   BW3CTS  BW4cCTM  BW4CTM  BWoneCTM  CEM200  CH  CHT  RF3  Tiger  TS3  \n",
              "0       0        8       0         0      20   0    0    0      0    0  \n",
              "1       1       14       0         0      20   1    0    0      0    0  \n",
              "2       1       14       0         0      20   1    0    0      0    0  \n",
              "3       1       14       0         0      20   1    0    0      0    0  \n",
              "4       1       23       0         0      20   1    0    0      0    0  \n",
              "\n",
              "[5 rows x 768 columns]"
            ]
          },
          "metadata": {
            "tags": []
          },
          "execution_count": 4
        }
      ]
    },
    {
      "metadata": {
        "id": "0h-kubyJQiRc",
        "colab_type": "code",
        "outputId": "0f93ec02-94e6-428a-9fc5-d2c38384dc3f",
        "colab": {
          "base_uri": "https://localhost:8080/",
          "height": 35
        }
      },
      "cell_type": "code",
      "source": [
        "df.shape"
      ],
      "execution_count": 0,
      "outputs": [
        {
          "output_type": "execute_result",
          "data": {
            "text/plain": [
              "(487, 768)"
            ]
          },
          "metadata": {
            "tags": []
          },
          "execution_count": 5
        }
      ]
    },
    {
      "metadata": {
        "id": "BtnergfJRVaq",
        "colab_type": "code",
        "outputId": "834230ac-3d11-44cd-fa35-3adae4f89dd4",
        "colab": {
          "base_uri": "https://localhost:8080/",
          "height": 35
        }
      },
      "cell_type": "code",
      "source": [
        "# check how many UUID's are within the dataframe. All UUID's have length 32\n",
        "#print(df.columns.values)\n",
        "newcollist= list()\n",
        "for a in df.columns.values:\n",
        "    if len(a)==32:\n",
        "        newcollist.append(a)\n",
        "newdf = df.filter(items=newcollist)\n",
        "\n",
        "print(newdf.shape)"
      ],
      "execution_count": 0,
      "outputs": [
        {
          "output_type": "stream",
          "text": [
            "(487, 682)\n"
          ],
          "name": "stdout"
        }
      ]
    },
    {
      "metadata": {
        "id": "wsCbBRxEQiRg",
        "colab_type": "code",
        "colab": {}
      },
      "cell_type": "code",
      "source": [
        "# check the different datatypes\n",
        "# df.dtypes"
      ],
      "execution_count": 0,
      "outputs": []
    },
    {
      "metadata": {
        "id": "HyTnTGCDnZc9",
        "colab_type": "text"
      },
      "cell_type": "markdown",
      "source": [
        "**Data Analysis**\n",
        "Besides classical dataframe analysis some in-depth analysis can be useful to understand the data and correlation. Problem is the dimension of the dataframe (over 400 variables)"
      ]
    },
    {
      "metadata": {
        "id": "GkUaUgnfWgTc",
        "colab_type": "code",
        "colab": {}
      },
      "cell_type": "code",
      "source": [
        "# do some quick analysis using pandas profile\n",
        "# !pip show pandas-profiling\n",
        "#import pandas_profiling -provides a hugh list-report\n",
        "#pandas_profiling.ProfileReport(df)"
      ],
      "execution_count": 0,
      "outputs": []
    },
    {
      "metadata": {
        "id": "Ig9JnqdmqtW1",
        "colab_type": "text"
      },
      "cell_type": "markdown",
      "source": [
        "Next cell for correlation analysis takes a long time to execute"
      ]
    },
    {
      "metadata": {
        "id": "ml6qc-Eemjim",
        "colab_type": "code",
        "colab": {}
      },
      "cell_type": "code",
      "source": [
        "import seaborn as sns\n",
        "\n",
        "plt.figure(figsize=(200,200)) \n",
        "# play with the figsize until the plot is big enough to plot all the columns\n",
        "# of your dataset, or the way you desire it to look like otherwise\n",
        "\n",
        "sns.heatmap(df.corr())"
      ],
      "execution_count": 0,
      "outputs": []
    },
    {
      "metadata": {
        "id": "NUXj3xodirbc",
        "colab_type": "code",
        "colab": {}
      },
      "cell_type": "code",
      "source": [
        "# correlation analysis with many variables\n",
        "# https://medium.com/@sebastiannorena/finding-correlation-between-many-variables-multidimensional-dataset-with-python-5deb3f39ffb3"
      ],
      "execution_count": 0,
      "outputs": []
    },
    {
      "metadata": {
        "id": "d1Oue682ntrQ",
        "colab_type": "text"
      },
      "cell_type": "markdown",
      "source": [
        "Adapt the dataframe by converting the date (datum)"
      ]
    },
    {
      "metadata": {
        "id": "GzH3vTXFQiRj",
        "colab_type": "code",
        "outputId": "e35b8f27-3330-4bf7-f5a0-cdc882f71461",
        "colab": {
          "base_uri": "https://localhost:8080/",
          "height": 334
        }
      },
      "cell_type": "code",
      "source": [
        "# convert data which is type object into datetime\n",
        "df['Datum'] = pd.to_datetime(df['Datum'])\n",
        "df.head()"
      ],
      "execution_count": 0,
      "outputs": [
        {
          "output_type": "execute_result",
          "data": {
            "text/html": [
              "<div>\n",
              "<style scoped>\n",
              "    .dataframe tbody tr th:only-of-type {\n",
              "        vertical-align: middle;\n",
              "    }\n",
              "\n",
              "    .dataframe tbody tr th {\n",
              "        vertical-align: top;\n",
              "    }\n",
              "\n",
              "    .dataframe thead th {\n",
              "        text-align: right;\n",
              "    }\n",
              "</style>\n",
              "<table border=\"1\" class=\"dataframe\">\n",
              "  <thead>\n",
              "    <tr style=\"text-align: right;\">\n",
              "      <th></th>\n",
              "      <th>Datum</th>\n",
              "      <th>8C5BBAAB7A213D69885122F2BF3E986C</th>\n",
              "      <th>8007D27994553DE180ED809F7B3F32CF</th>\n",
              "      <th>89B81AC901F932769400194890DDBA8F</th>\n",
              "      <th>59A9E02EC2723E87BAE018C58CF08904</th>\n",
              "      <th>08775DFA79D834CEAD88D7EF63185D94</th>\n",
              "      <th>CAC59BCDBE86370D840726487D717367</th>\n",
              "      <th>4F7480C5D69C3247843827DAD299858F</th>\n",
              "      <th>144E15B433E73E5A8B91D5CBE9C8144E</th>\n",
              "      <th>A6E0581580CA324DAF9EB83633973AAD</th>\n",
              "      <th>...</th>\n",
              "      <th>BW3CTS</th>\n",
              "      <th>BW4cCTM</th>\n",
              "      <th>BW4CTM</th>\n",
              "      <th>BWoneCTM</th>\n",
              "      <th>CEM200</th>\n",
              "      <th>CH</th>\n",
              "      <th>CHT</th>\n",
              "      <th>RF3</th>\n",
              "      <th>Tiger</th>\n",
              "      <th>TS3</th>\n",
              "    </tr>\n",
              "  </thead>\n",
              "  <tbody>\n",
              "    <tr>\n",
              "      <th>0</th>\n",
              "      <td>2016-09-01</td>\n",
              "      <td>2430.0</td>\n",
              "      <td>11250.0</td>\n",
              "      <td>782.0</td>\n",
              "      <td>69.0</td>\n",
              "      <td>18298.0</td>\n",
              "      <td>13374.0</td>\n",
              "      <td>352.0</td>\n",
              "      <td>767.0</td>\n",
              "      <td>131.0</td>\n",
              "      <td>...</td>\n",
              "      <td>0</td>\n",
              "      <td>8</td>\n",
              "      <td>0</td>\n",
              "      <td>0</td>\n",
              "      <td>20</td>\n",
              "      <td>0</td>\n",
              "      <td>0</td>\n",
              "      <td>0</td>\n",
              "      <td>0</td>\n",
              "      <td>0</td>\n",
              "    </tr>\n",
              "    <tr>\n",
              "      <th>1</th>\n",
              "      <td>2016-09-02</td>\n",
              "      <td>2430.0</td>\n",
              "      <td>11300.0</td>\n",
              "      <td>794.0</td>\n",
              "      <td>69.0</td>\n",
              "      <td>18298.0</td>\n",
              "      <td>13374.0</td>\n",
              "      <td>352.0</td>\n",
              "      <td>767.0</td>\n",
              "      <td>131.0</td>\n",
              "      <td>...</td>\n",
              "      <td>1</td>\n",
              "      <td>14</td>\n",
              "      <td>0</td>\n",
              "      <td>0</td>\n",
              "      <td>20</td>\n",
              "      <td>1</td>\n",
              "      <td>0</td>\n",
              "      <td>0</td>\n",
              "      <td>0</td>\n",
              "      <td>0</td>\n",
              "    </tr>\n",
              "    <tr>\n",
              "      <th>2</th>\n",
              "      <td>2016-09-03</td>\n",
              "      <td>2430.0</td>\n",
              "      <td>11300.0</td>\n",
              "      <td>794.0</td>\n",
              "      <td>69.0</td>\n",
              "      <td>18298.0</td>\n",
              "      <td>13374.0</td>\n",
              "      <td>352.0</td>\n",
              "      <td>767.0</td>\n",
              "      <td>131.0</td>\n",
              "      <td>...</td>\n",
              "      <td>1</td>\n",
              "      <td>14</td>\n",
              "      <td>0</td>\n",
              "      <td>0</td>\n",
              "      <td>20</td>\n",
              "      <td>1</td>\n",
              "      <td>0</td>\n",
              "      <td>0</td>\n",
              "      <td>0</td>\n",
              "      <td>0</td>\n",
              "    </tr>\n",
              "    <tr>\n",
              "      <th>3</th>\n",
              "      <td>2016-09-04</td>\n",
              "      <td>2430.0</td>\n",
              "      <td>11300.0</td>\n",
              "      <td>797.0</td>\n",
              "      <td>69.0</td>\n",
              "      <td>18298.0</td>\n",
              "      <td>13374.0</td>\n",
              "      <td>352.0</td>\n",
              "      <td>767.0</td>\n",
              "      <td>131.0</td>\n",
              "      <td>...</td>\n",
              "      <td>1</td>\n",
              "      <td>14</td>\n",
              "      <td>0</td>\n",
              "      <td>0</td>\n",
              "      <td>20</td>\n",
              "      <td>1</td>\n",
              "      <td>0</td>\n",
              "      <td>0</td>\n",
              "      <td>0</td>\n",
              "      <td>0</td>\n",
              "    </tr>\n",
              "    <tr>\n",
              "      <th>4</th>\n",
              "      <td>2016-09-05</td>\n",
              "      <td>2430.0</td>\n",
              "      <td>11300.0</td>\n",
              "      <td>797.0</td>\n",
              "      <td>69.0</td>\n",
              "      <td>18298.0</td>\n",
              "      <td>13374.0</td>\n",
              "      <td>399.0</td>\n",
              "      <td>767.0</td>\n",
              "      <td>189.0</td>\n",
              "      <td>...</td>\n",
              "      <td>1</td>\n",
              "      <td>23</td>\n",
              "      <td>0</td>\n",
              "      <td>0</td>\n",
              "      <td>20</td>\n",
              "      <td>1</td>\n",
              "      <td>0</td>\n",
              "      <td>0</td>\n",
              "      <td>0</td>\n",
              "      <td>0</td>\n",
              "    </tr>\n",
              "  </tbody>\n",
              "</table>\n",
              "<p>5 rows × 768 columns</p>\n",
              "</div>"
            ],
            "text/plain": [
              "       Datum  8C5BBAAB7A213D69885122F2BF3E986C  \\\n",
              "0 2016-09-01                            2430.0   \n",
              "1 2016-09-02                            2430.0   \n",
              "2 2016-09-03                            2430.0   \n",
              "3 2016-09-04                            2430.0   \n",
              "4 2016-09-05                            2430.0   \n",
              "\n",
              "   8007D27994553DE180ED809F7B3F32CF  89B81AC901F932769400194890DDBA8F  \\\n",
              "0                           11250.0                             782.0   \n",
              "1                           11300.0                             794.0   \n",
              "2                           11300.0                             794.0   \n",
              "3                           11300.0                             797.0   \n",
              "4                           11300.0                             797.0   \n",
              "\n",
              "   59A9E02EC2723E87BAE018C58CF08904  08775DFA79D834CEAD88D7EF63185D94  \\\n",
              "0                              69.0                           18298.0   \n",
              "1                              69.0                           18298.0   \n",
              "2                              69.0                           18298.0   \n",
              "3                              69.0                           18298.0   \n",
              "4                              69.0                           18298.0   \n",
              "\n",
              "   CAC59BCDBE86370D840726487D717367  4F7480C5D69C3247843827DAD299858F  \\\n",
              "0                           13374.0                             352.0   \n",
              "1                           13374.0                             352.0   \n",
              "2                           13374.0                             352.0   \n",
              "3                           13374.0                             352.0   \n",
              "4                           13374.0                             399.0   \n",
              "\n",
              "   144E15B433E73E5A8B91D5CBE9C8144E  A6E0581580CA324DAF9EB83633973AAD ...   \\\n",
              "0                             767.0                             131.0 ...    \n",
              "1                             767.0                             131.0 ...    \n",
              "2                             767.0                             131.0 ...    \n",
              "3                             767.0                             131.0 ...    \n",
              "4                             767.0                             189.0 ...    \n",
              "\n",
              "   BW3CTS  BW4cCTM  BW4CTM  BWoneCTM  CEM200  CH  CHT  RF3  Tiger  TS3  \n",
              "0       0        8       0         0      20   0    0    0      0    0  \n",
              "1       1       14       0         0      20   1    0    0      0    0  \n",
              "2       1       14       0         0      20   1    0    0      0    0  \n",
              "3       1       14       0         0      20   1    0    0      0    0  \n",
              "4       1       23       0         0      20   1    0    0      0    0  \n",
              "\n",
              "[5 rows x 768 columns]"
            ]
          },
          "metadata": {
            "tags": []
          },
          "execution_count": 50
        }
      ]
    },
    {
      "metadata": {
        "id": "_c9bLQBfQiRn",
        "colab_type": "code",
        "colab": {}
      },
      "cell_type": "code",
      "source": [
        "# UUID format, e.g. 8C5BBAAB7A213D69885122F2BF3E986C = has length 32\n",
        "# UUID: 026CBAE094394E01A29914AF256DD413\n",
        "# UUID: CAC59BCDBE86370D840726487D717367\n",
        "# for each UUID create a regression model\n",
        "# how many columns with UUID"
      ],
      "execution_count": 0,
      "outputs": []
    },
    {
      "metadata": {
        "id": "X2Z8AejIQiRr",
        "colab_type": "code",
        "outputId": "50f913b2-7cb8-4114-ac6e-e4912feecdcb",
        "colab": {
          "base_uri": "https://localhost:8080/",
          "height": 294
        }
      },
      "cell_type": "code",
      "source": [
        "# plot for a specific UUID the history\n",
        "import matplotlib.pyplot as plt\n",
        "%matplotlib inline\n",
        "ax = plt.gca()\n",
        "df.plot(kind='line',x='Datum',y='8C5BBAAB7A213D69885122F2BF3E986C', color='blue',ax=ax, label='UUID: 8C5BBAAB7A213D69885122F2BF3E986C')\n",
        "df.plot(kind='line',x='Datum',y='CAC59BCDBE86370D840726487D717367', color='red', ax=ax, label='UUID: CAC59BCDBE86370D840726487D717367')\n",
        "df.plot(kind='line',x='Datum',y='026CBAE094394E01A29914AF256DD413', color='green', ax=ax, label='UUID: 026CBAE094394E01A29914AF256DD413')\n",
        "plt.xlabel(\"Date\")\n",
        "plt.ylabel(\"Aggr. Consumption\")\n",
        "plt.legend()\n",
        "plt.show()"
      ],
      "execution_count": 0,
      "outputs": [
        {
          "output_type": "display_data",
          "data": {
            "image/png": "[encoded data removed]",
            "text/plain": [
              "<Figure size 432x288 with 1 Axes>"
            ]
          },
          "metadata": {
            "tags": []
          }
        }
      ]
    },
    {
      "metadata": {
        "id": "luFRz6JfpZin",
        "colab_type": "text"
      },
      "cell_type": "markdown",
      "source": [
        "# Data Analysis, Mvg Average, Lasso, Ridge, XGB\n",
        "Check notebook:\n",
        "## time_series_analysis_thermoplan.ipynb"
      ]
    },
    {
      "metadata": {
        "id": "cuYVFN_5HKqt",
        "colab_type": "text"
      },
      "cell_type": "markdown",
      "source": [
        "Load the various machine leanring libraries from scikit learn and XGBoost"
      ]
    },
    {
      "metadata": {
        "id": "45HNpIF7HSFw",
        "colab_type": "text"
      },
      "cell_type": "markdown",
      "source": [
        "Check the dataframe about size and find the iloc location of the specific UUID that will become the y label for prediction"
      ]
    },
    {
      "metadata": {
        "id": "2HFGRhqRDY-E",
        "colab_type": "code",
        "outputId": "647b77c5-716c-4af2-d38b-3e650fccc71b",
        "colab": {
          "base_uri": "https://localhost:8080/",
          "height": 1399
        }
      },
      "cell_type": "code",
      "source": [
        "print('dictionary keys: ',df.keys())\n",
        "#print('Description: ',df.describe())"
      ],
      "execution_count": 0,
      "outputs": [
        {
          "output_type": "stream",
          "text": [
            "dictionary keys:  Index(['Datum', '8C5BBAAB7A213D69885122F2BF3E986C',\n",
            "       '8007D27994553DE180ED809F7B3F32CF', '89B81AC901F932769400194890DDBA8F',\n",
            "       '59A9E02EC2723E87BAE018C58CF08904', '08775DFA79D834CEAD88D7EF63185D94',\n",
            "       'CAC59BCDBE86370D840726487D717367', '4F7480C5D69C3247843827DAD299858F',\n",
            "       '144E15B433E73E5A8B91D5CBE9C8144E', 'A6E0581580CA324DAF9EB83633973AAD',\n",
            "       ...\n",
            "       'BW3CTS', 'BW4cCTM', 'BW4CTM', 'BWoneCTM', 'CEM200', 'CH', 'CHT', 'RF3',\n",
            "       'Tiger', 'TS3'],\n",
            "      dtype='object', length=768)\n",
            "Description:         8C5BBAAB7A213D69885122F2BF3E986C  8007D27994553DE180ED809F7B3F32CF  \\\n",
            "count                        487.000000                        487.000000   \n",
            "mean                        2710.227926                      18977.002053   \n",
            "std                          200.089464                       4725.201113   \n",
            "min                         2430.000000                      11250.000000   \n",
            "25%                         2483.000000                      14550.000000   \n",
            "50%                         2855.000000                      20600.000000   \n",
            "75%                         2883.000000                      22050.000000   \n",
            "max                         2891.000000                      28700.000000   \n",
            "\n",
            "       89B81AC901F932769400194890DDBA8F  59A9E02EC2723E87BAE018C58CF08904  \\\n",
            "count                        487.000000                        487.000000   \n",
            "mean                        1782.075975                         86.332649   \n",
            "std                          725.006471                          9.572564   \n",
            "min                          782.000000                         69.000000   \n",
            "25%                          959.500000                         78.000000   \n",
            "50%                         1846.000000                         88.000000   \n",
            "75%                         2531.000000                         96.000000   \n",
            "max                         2551.000000                         97.000000   \n",
            "\n",
            "       08775DFA79D834CEAD88D7EF63185D94  CAC59BCDBE86370D840726487D717367  \\\n",
            "count                        487.000000                        487.000000   \n",
            "mean                       40825.240246                      15703.340862   \n",
            "std                        13850.022706                       1443.517930   \n",
            "min                        18298.000000                      13374.000000   \n",
            "25%                        27547.000000                      14138.000000   \n",
            "50%                        39434.000000                      15876.000000   \n",
            "75%                        52801.000000                      17101.000000   \n",
            "max                        63168.000000                      17601.000000   \n",
            "\n",
            "       4F7480C5D69C3247843827DAD299858F  144E15B433E73E5A8B91D5CBE9C8144E  \\\n",
            "count                        487.000000                        487.000000   \n",
            "mean                         618.696099                        918.622177   \n",
            "std                          127.465617                         78.389059   \n",
            "min                          352.000000                        767.000000   \n",
            "25%                          516.000000                        852.000000   \n",
            "50%                          652.000000                        945.000000   \n",
            "75%                          668.000000                        982.000000   \n",
            "max                          798.000000                       1037.000000   \n",
            "\n",
            "       A6E0581580CA324DAF9EB83633973AAD  170CF4A2735335DAAB89681186EB97E6  \\\n",
            "count                        487.000000                        487.000000   \n",
            "mean                         358.000000                      89562.605749   \n",
            "std                          124.678929                      26712.767878   \n",
            "min                          131.000000                      47187.000000   \n",
            "25%                          258.000000                      65815.000000   \n",
            "50%                          397.000000                      85418.000000   \n",
            "75%                          442.000000                     112066.000000   \n",
            "max                          581.000000                     137628.000000   \n",
            "\n",
            "          ...          BW3CTS      BW4cCTM  BW4CTM    BWoneCTM      CEM200  \\\n",
            "count     ...      487.000000   487.000000   487.0  487.000000  487.000000   \n",
            "mean      ...      430.901437  1705.792608     0.0    0.759754  324.344969   \n",
            "std       ...      235.615153   958.661930     0.0    0.427672  162.908013   \n",
            "min       ...        0.000000     8.000000     0.0    0.000000   20.000000   \n",
            "25%       ...      227.000000   916.000000     0.0    1.000000  173.000000   \n",
            "50%       ...      432.000000  1712.000000     0.0    1.000000  366.000000   \n",
            "75%       ...      623.000000  2464.500000     0.0    1.000000  450.000000   \n",
            "max       ...      821.000000  3369.000000     0.0    1.000000  558.000000   \n",
            "\n",
            "               CH         CHT         RF3       Tiger         TS3  \n",
            "count  487.000000  487.000000  487.000000  487.000000  487.000000  \n",
            "mean    85.258727    0.977413   82.997947    0.731006   20.164271  \n",
            "std     43.929409    0.148736   47.959366    0.443893   14.214614  \n",
            "min      0.000000    0.000000    0.000000    0.000000    0.000000  \n",
            "25%     59.000000    1.000000   34.500000    0.000000    5.000000  \n",
            "50%     89.000000    1.000000   83.000000    1.000000   25.000000  \n",
            "75%    115.000000    1.000000  127.000000    1.000000   29.000000  \n",
            "max    169.000000    1.000000  166.000000    1.000000   48.000000  \n",
            "\n",
            "[8 rows x 767 columns]\n"
          ],
          "name": "stdout"
        }
      ]
    },
    {
      "metadata": {
        "id": "FWNSNnBhFWAW",
        "colab_type": "code",
        "outputId": "a1d7b4c9-73b7-4425-f907-aa31435b3016",
        "colab": {
          "base_uri": "https://localhost:8080/",
          "height": 104
        }
      },
      "cell_type": "code",
      "source": [
        "df.info()"
      ],
      "execution_count": 0,
      "outputs": [
        {
          "output_type": "stream",
          "text": [
            "<class 'pandas.core.frame.DataFrame'>\n",
            "RangeIndex: 487 entries, 0 to 486\n",
            "Columns: 768 entries, Datum to TS3\n",
            "dtypes: datetime64[ns](1), float64(682), int64(85)\n",
            "memory usage: 2.9 MB\n"
          ],
          "name": "stdout"
        }
      ]
    },
    {
      "metadata": {
        "id": "ZRQOwrWjIXbq",
        "colab_type": "code",
        "colab": {}
      },
      "cell_type": "code",
      "source": [
        "# simple tutorial on how to slide out a column and add it at the end of the dataframe\n",
        "#dfxx = pd.DataFrame({'Col1': [10, 20, 15, 30, 45],'Col2': [13, 23, 18, 33, 48],'Col3': [17, 27, 22, 37, 52]})\n",
        "#dfxx\n",
        "#dfyy = dfxx.pop('Col2')\n",
        "#dfxx['Col2'] = dfyy\n",
        "#dfxx"
      ],
      "execution_count": 0,
      "outputs": []
    },
    {
      "metadata": {
        "id": "KNUbUbpqQiR2",
        "colab_type": "code",
        "colab": {}
      },
      "cell_type": "code",
      "source": [
        "# Prepapre dataset for training and test, select one specific UUID\n",
        "# cut the selected UUID and add it to the end of the dataframe\n",
        "#uuid = '026CBAE094394E01A29914AF256DD413'\n",
        "#uuid = 'CAC59BCDBE86370D840726487D717367'\n",
        "uuid = '8C5BBAAB7A213D69885122F2BF3E986C'\n",
        "\n",
        "\n",
        "# cut the column of the uuid and add to the end as y label for prediction\n",
        "df1 = df.pop(uuid)\n",
        "df[uuid] = df1\n",
        "#df\n",
        "\n",
        "# split the dataframe into X and y by removing the last column\n",
        "X, y = df.iloc[:,:-1],df.iloc[:,-1]"
      ],
      "execution_count": 0,
      "outputs": []
    },
    {
      "metadata": {
        "id": "5EncQ-MAQiSK",
        "colab_type": "code",
        "colab": {}
      },
      "cell_type": "code",
      "source": [
        "# add TensorFlow for LSTM and analyse just one column without any variables influencing\n",
        "import tensorflow as tf\n",
        "from sklearn.preprocessing import StandardScaler"
      ],
      "execution_count": 0,
      "outputs": []
    },
    {
      "metadata": {
        "id": "vYrJUjEoQiSP",
        "colab_type": "code",
        "colab": {}
      },
      "cell_type": "code",
      "source": [
        "# select the data to use, meaning column of the UUID that you like to predict\n",
        "# '8C5BBAAB7A213D69885122F2BF3E986C', 'CAC59BCDBE86370D840726487D717367', '026CBAE094394E01A29914AF256DD413'\n",
        "data_to_use = df['8C5BBAAB7A213D69885122F2BF3E986C'].values"
      ],
      "execution_count": 0,
      "outputs": []
    },
    {
      "metadata": {
        "id": "X5ZMRGuIQiST",
        "colab_type": "code",
        "outputId": "2d08c234-ae8f-4a8e-b695-3c22e657654a",
        "colab": {
          "base_uri": "https://localhost:8080/",
          "height": 461
        }
      },
      "cell_type": "code",
      "source": [
        "# scale the data\n",
        "scaler = StandardScaler()\n",
        "scaled_data = scaler.fit_transform(data_to_use.reshape(-1, 1))\n",
        "# plot the scled data of the selected UUID\n",
        "plt.figure(figsize=(12,7), frameon=False, facecolor='brown', edgecolor='blue')\n",
        "plt.title('Scaled UUID')\n",
        "plt.xlabel('Date')\n",
        "plt.ylabel('Scaled value of UUID')\n",
        "plt.plot(scaled_data, label='UUID data')\n",
        "plt.legend()\n",
        "plt.show()"
      ],
      "execution_count": 0,
      "outputs": [
        {
          "output_type": "display_data",
          "data": {
            "image/png": "[encoded data removed]",
            "text/plain": [
              "<Figure size 864x504 with 1 Axes>"
            ]
          },
          "metadata": {
            "tags": []
          }
        }
      ]
    },
    {
      "metadata": {
        "id": "CYyn1QvYQiSY",
        "colab_type": "code",
        "colab": {}
      },
      "cell_type": "code",
      "source": [
        "def window_data(data, window_size):\n",
        "    '''\n",
        "    This function is used to create Features and Labels datasets. By windowing the data.\n",
        "    \n",
        "    Input: data - dataset used in the project\n",
        "           window_size - how many data points we are going to use to predict the next datapoint in the sequence \n",
        "                       [Example: if window_size = 1 we are going to use only the previous day to predict todays stock prices]\n",
        "    \n",
        "    Outputs: X - features splitted into windows of datapoints (if window_size = 1, X = [len(data)-1, 1])\n",
        "             y - 'labels', actually this is the next number in the sequence, this number we are trying to predict\n",
        "    '''\n",
        "    X = []\n",
        "    y = []\n",
        "    \n",
        "    i = 0\n",
        "    while (i + window_size) <= len(data) - 1:\n",
        "        X.append(data[i:i+window_size])\n",
        "        y.append(data[i+window_size])\n",
        "        \n",
        "        i += 1\n",
        "    assert len(X) ==  len(y)\n",
        "    return X, y"
      ],
      "execution_count": 0,
      "outputs": []
    },
    {
      "metadata": {
        "id": "Xqnm4iaZQiSc",
        "colab_type": "code",
        "colab": {}
      },
      "cell_type": "code",
      "source": [
        "X, y = window_data(scaled_data, 7)"
      ],
      "execution_count": 0,
      "outputs": []
    },
    {
      "metadata": {
        "id": "9wMjup7iQiSf",
        "colab_type": "code",
        "outputId": "0b8fd572-4174-410e-e61e-03cd1229b19a",
        "colab": {
          "base_uri": "https://localhost:8080/",
          "height": 86
        }
      },
      "cell_type": "code",
      "source": [
        "# split the dataset - currently manual \n",
        "X_train  = np.array(X[:431])\n",
        "y_train = np.array(y[:431])\n",
        "\n",
        "X_test = np.array(X[431:])\n",
        "y_test = np.array(y[431:])\n",
        "\n",
        "print(\"X_train size: {}\".format(X_train.shape))\n",
        "print(\"y_train size: {}\".format(y_train.shape))\n",
        "print(\"X_test size: {}\".format(X_test.shape))\n",
        "print(\"y_test size: {}\".format(y_test.shape))"
      ],
      "execution_count": 0,
      "outputs": [
        {
          "output_type": "stream",
          "text": [
            "X_train size: (431, 7, 1)\n",
            "y_train size: (431, 1)\n",
            "X_test size: (49, 7, 1)\n",
            "y_test size: (49, 1)\n"
          ],
          "name": "stdout"
        }
      ]
    },
    {
      "metadata": {
        "id": "Uiea4a4fQiSj",
        "colab_type": "code",
        "colab": {}
      },
      "cell_type": "code",
      "source": [
        "# Define network\n",
        "#Hyperparameters used in the network\n",
        "batch_size = 7 #how many windows of data we are passing at once\n",
        "window_size = 7 #how big window_size is (Or How many days do we consider to predict next point in the sequence)\n",
        "hidden_layer = 256 #How many units do we use in LSTM cell\n",
        "clip_margin = 4 #To prevent exploding gradient, we use clipper to clip gradients below -margin or above this margin\n",
        "learning_rate = 0.001 \n",
        "epochs = 200 "
      ],
      "execution_count": 0,
      "outputs": []
    },
    {
      "metadata": {
        "id": "GPk8leUnQiSo",
        "colab_type": "code",
        "colab": {}
      },
      "cell_type": "code",
      "source": [
        "inputs = tf.placeholder(tf.float32, [batch_size, window_size, 1])\n",
        "targets = tf.placeholder(tf.float32, [batch_size, 1])"
      ],
      "execution_count": 0,
      "outputs": []
    },
    {
      "metadata": {
        "id": "K7a6eVeDQiSr",
        "colab_type": "code",
        "colab": {}
      },
      "cell_type": "code",
      "source": [
        "# LSTM weights\n",
        "#Weights for the input gate\n",
        "weights_input_gate = tf.Variable(tf.truncated_normal([1, hidden_layer], stddev=0.05))\n",
        "weights_input_hidden = tf.Variable(tf.truncated_normal([hidden_layer, hidden_layer], stddev=0.05))\n",
        "bias_input = tf.Variable(tf.zeros([hidden_layer]))\n",
        "\n",
        "#weights for the forgot gate\n",
        "weights_forget_gate = tf.Variable(tf.truncated_normal([1, hidden_layer], stddev=0.05))\n",
        "weights_forget_hidden = tf.Variable(tf.truncated_normal([hidden_layer, hidden_layer], stddev=0.05))\n",
        "bias_forget = tf.Variable(tf.zeros([hidden_layer]))\n",
        "\n",
        "#weights for the output gate\n",
        "weights_output_gate = tf.Variable(tf.truncated_normal([1, hidden_layer], stddev=0.05))\n",
        "weights_output_hidden = tf.Variable(tf.truncated_normal([hidden_layer, hidden_layer], stddev=0.05))\n",
        "bias_output = tf.Variable(tf.zeros([hidden_layer]))\n",
        "\n",
        "#weights for the memory cell\n",
        "weights_memory_cell = tf.Variable(tf.truncated_normal([1, hidden_layer], stddev=0.05))\n",
        "weights_memory_cell_hidden = tf.Variable(tf.truncated_normal([hidden_layer, hidden_layer], stddev=0.05))\n",
        "bias_memory_cell = tf.Variable(tf.zeros([hidden_layer]))"
      ],
      "execution_count": 0,
      "outputs": []
    },
    {
      "metadata": {
        "id": "LbwA4bTCQiSu",
        "colab_type": "code",
        "colab": {}
      },
      "cell_type": "code",
      "source": [
        "## Output layer weigts\n",
        "weights_output = tf.Variable(tf.truncated_normal([hidden_layer, 1], stddev=0.05))\n",
        "bias_output_layer = tf.Variable(tf.zeros([1]))"
      ],
      "execution_count": 0,
      "outputs": []
    },
    {
      "metadata": {
        "id": "nupsF0LTQiSy",
        "colab_type": "code",
        "colab": {}
      },
      "cell_type": "code",
      "source": [
        "def LSTM_cell(input, output, state):\n",
        "    \n",
        "    input_gate = tf.sigmoid(tf.matmul(input, weights_input_gate) + tf.matmul(output, weights_input_hidden) + bias_input)\n",
        "    \n",
        "    forget_gate = tf.sigmoid(tf.matmul(input, weights_forget_gate) + tf.matmul(output, weights_forget_hidden) + bias_forget)\n",
        "    \n",
        "    output_gate = tf.sigmoid(tf.matmul(input, weights_output_gate) + tf.matmul(output, weights_output_hidden) + bias_output)\n",
        "    \n",
        "    memory_cell = tf.tanh(tf.matmul(input, weights_memory_cell) + tf.matmul(output, weights_memory_cell_hidden) + bias_memory_cell)\n",
        "    \n",
        "    state = state * forget_gate + input_gate * memory_cell\n",
        "    \n",
        "    output = output_gate * tf.tanh(state)\n",
        "    return state, output"
      ],
      "execution_count": 0,
      "outputs": []
    },
    {
      "metadata": {
        "id": "KKIu3JpeQiS1",
        "colab_type": "code",
        "colab": {}
      },
      "cell_type": "code",
      "source": [
        "outputs = []\n",
        "for i in range(batch_size): #Iterates through every window in the batch\n",
        "    #for each batch I am creating batch_state as all zeros and output for that window which is all zeros at the beginning as well.\n",
        "    batch_state = np.zeros([1, hidden_layer], dtype=np.float32) \n",
        "    batch_output = np.zeros([1, hidden_layer], dtype=np.float32)\n",
        "    #for each point in the window we are feeding that into LSTM to get next output\n",
        "    for ii in range(window_size):\n",
        "        batch_state, batch_output = LSTM_cell(tf.reshape(inputs[i][ii], (-1, 1)), batch_state, batch_output)\n",
        "    #last output is conisdered and used to get a prediction\n",
        "    outputs.append(tf.matmul(batch_output, weights_output) + bias_output_layer)"
      ],
      "execution_count": 0,
      "outputs": []
    },
    {
      "metadata": {
        "id": "ektjUE0IQiS4",
        "colab_type": "code",
        "outputId": "9e8e739b-8b3a-43f9-83a2-074027a383f6",
        "colab": {
          "base_uri": "https://localhost:8080/",
          "height": 138
        }
      },
      "cell_type": "code",
      "source": [
        "outputs"
      ],
      "execution_count": 0,
      "outputs": [
        {
          "output_type": "execute_result",
          "data": {
            "text/plain": [
              "[<tf.Tensor 'add_511:0' shape=(1, 1) dtype=float32>,\n",
              " <tf.Tensor 'add_575:0' shape=(1, 1) dtype=float32>,\n",
              " <tf.Tensor 'add_639:0' shape=(1, 1) dtype=float32>,\n",
              " <tf.Tensor 'add_703:0' shape=(1, 1) dtype=float32>,\n",
              " <tf.Tensor 'add_767:0' shape=(1, 1) dtype=float32>,\n",
              " <tf.Tensor 'add_831:0' shape=(1, 1) dtype=float32>,\n",
              " <tf.Tensor 'add_895:0' shape=(1, 1) dtype=float32>]"
            ]
          },
          "metadata": {
            "tags": []
          },
          "execution_count": 65
        }
      ]
    },
    {
      "metadata": {
        "id": "VTP71OKwQiS8",
        "colab_type": "code",
        "colab": {}
      },
      "cell_type": "code",
      "source": [
        "losses = []\n",
        "\n",
        "for i in range(len(outputs)):\n",
        "    losses.append(tf.losses.mean_squared_error(tf.reshape(targets[i], (-1, 1)), outputs[i]))\n",
        "    \n",
        "loss = tf.reduce_mean(losses)"
      ],
      "execution_count": 0,
      "outputs": []
    },
    {
      "metadata": {
        "id": "9dB-Jag9QiTC",
        "colab_type": "code",
        "colab": {}
      },
      "cell_type": "code",
      "source": [
        "gradients = tf.gradients(loss, tf.trainable_variables())\n",
        "clipped, _ = tf.clip_by_global_norm(gradients, clip_margin)\n",
        "optimizer = tf.train.AdamOptimizer(learning_rate)\n",
        "trained_optimizer = optimizer.apply_gradients(zip(gradients, tf.trainable_variables()))"
      ],
      "execution_count": 0,
      "outputs": []
    },
    {
      "metadata": {
        "id": "sp6CF1W6QiTE",
        "colab_type": "code",
        "colab": {}
      },
      "cell_type": "code",
      "source": [
        "session = tf.Session()\n",
        "session.run(tf.global_variables_initializer())"
      ],
      "execution_count": 0,
      "outputs": []
    },
    {
      "metadata": {
        "id": "97OyzotWq_TM",
        "colab_type": "text"
      },
      "cell_type": "markdown",
      "source": [
        "Train the LSTM model and print"
      ]
    },
    {
      "metadata": {
        "id": "rvN8OkoFQiTJ",
        "colab_type": "code",
        "outputId": "108e4a57-92e3-417e-b6c4-daa304ce8f19",
        "colab": {
          "base_uri": "https://localhost:8080/",
          "height": 190
        }
      },
      "cell_type": "code",
      "source": [
        "for i in range(epochs):\n",
        "    traind_scores = []\n",
        "    ii = 0\n",
        "    epoch_loss = []\n",
        "    while(ii + batch_size) <= len(X_train):\n",
        "        X_batch = X_train[ii:ii+batch_size]\n",
        "        y_batch = y_train[ii:ii+batch_size]\n",
        "        \n",
        "        o, c, _ = session.run([outputs, loss, trained_optimizer], feed_dict={inputs:X_batch, targets:y_batch})\n",
        "        \n",
        "        epoch_loss.append(c)\n",
        "        traind_scores.append(o)\n",
        "        ii += batch_size\n",
        "    if (i % 20) == 0:\n",
        "        print('Epoch {}/{}'.format(i, epochs), ' Current loss: {}'.format(np.mean(epoch_loss)))"
      ],
      "execution_count": 0,
      "outputs": [
        {
          "output_type": "stream",
          "text": [
            "Epoch 0/200  Current loss: 0.25320160388946533\n",
            "Epoch 20/200  Current loss: 0.05230063945055008\n",
            "Epoch 40/200  Current loss: 0.03777216374874115\n",
            "Epoch 60/200  Current loss: 0.02534766122698784\n",
            "Epoch 80/200  Current loss: 0.01781642809510231\n",
            "Epoch 100/200  Current loss: 0.017114466056227684\n",
            "Epoch 120/200  Current loss: 0.007649669889360666\n",
            "Epoch 140/200  Current loss: 0.010925457812845707\n",
            "Epoch 160/200  Current loss: 0.00551336957141757\n",
            "Epoch 180/200  Current loss: 0.005676825065165758\n"
          ],
          "name": "stdout"
        }
      ]
    },
    {
      "metadata": {
        "id": "o0Dy7OQ8QiTS",
        "colab_type": "code",
        "colab": {}
      },
      "cell_type": "code",
      "source": [
        "sup =[]\n",
        "for i in range(len(traind_scores)):\n",
        "    for j in range(len(traind_scores[i])):\n",
        "        sup.append(traind_scores[i][j][0])"
      ],
      "execution_count": 0,
      "outputs": []
    },
    {
      "metadata": {
        "id": "nfiP9P0BQiTV",
        "colab_type": "code",
        "colab": {}
      },
      "cell_type": "code",
      "source": [
        "tests = []\n",
        "i = 0\n",
        "while i+batch_size <= len(X_test):\n",
        "    \n",
        "    o = session.run([outputs], feed_dict={inputs:X_test[i:i+batch_size]})\n",
        "    i += batch_size\n",
        "    tests.append(o)"
      ],
      "execution_count": 0,
      "outputs": []
    },
    {
      "metadata": {
        "id": "IiK-d3pwQiTW",
        "colab_type": "code",
        "colab": {}
      },
      "cell_type": "code",
      "source": [
        "tests_new = []\n",
        "for i in range(len(tests)):\n",
        "    for j in range(len(tests[i][0])):\n",
        "        tests_new.append(tests[i][0][j])"
      ],
      "execution_count": 0,
      "outputs": []
    },
    {
      "metadata": {
        "id": "rN7PuGoaQiTd",
        "colab_type": "code",
        "colab": {}
      },
      "cell_type": "code",
      "source": [
        "# adapt to the window and number of rows....\n",
        "test_results = []\n",
        "for i in range(480):       # adapt the number, was 749\n",
        "    if i >= 431:        # adapt the number, was 701\n",
        "        test_results.append(tests_new[i-431])      # adapt the number\n",
        "    else:\n",
        "        test_results.append(None)"
      ],
      "execution_count": 0,
      "outputs": []
    },
    {
      "metadata": {
        "id": "gSAnxehxfecH",
        "colab_type": "text"
      },
      "cell_type": "markdown",
      "source": [
        "**Plotting the Predictions**"
      ]
    },
    {
      "metadata": {
        "id": "MW9GyCYMQiTf",
        "colab_type": "code",
        "outputId": "c74f8773-b6b2-4488-fd15-0d2ce91ef64b",
        "colab": {
          "base_uri": "https://localhost:8080/",
          "height": 449
        }
      },
      "cell_type": "code",
      "source": [
        "plt.figure(figsize=(16, 7))\n",
        "plt.plot(scaled_data, label='Original data')\n",
        "plt.plot(sup, label='Training data')\n",
        "plt.plot(test_results, label='Testing data')\n",
        "plt.legend()\n",
        "plt.show()"
      ],
      "execution_count": 0,
      "outputs": [
        {
          "output_type": "display_data",
          "data": {
            "image/png": "[encoded data removed]",
            "text/plain": [
              "<Figure size 1152x504 with 1 Axes>"
            ]
          },
          "metadata": {
            "tags": []
          }
        }
      ]
    },
    {
      "metadata": {
        "id": "qDNDCyX1QiTm",
        "colab_type": "code",
        "colab": {}
      },
      "cell_type": "code",
      "source": [
        "# close the TF session\n",
        "session.close()"
      ],
      "execution_count": 0,
      "outputs": []
    }
  ]
}